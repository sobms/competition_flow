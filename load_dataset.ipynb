{
 "cells": [
  {
   "cell_type": "code",
   "execution_count": null,
   "id": "441f8b5a",
   "metadata": {},
   "outputs": [],
   "source": [
    "import polars as pl\n",
    "\n",
    "# Login using e.g. `huggingface-cli login` to access this dataset\n",
    "df = pl.read_parquet('hf://datasets/yandex/yambda/flat/50m/multi_event.parquet')\n",
    "seq_df = pl.read_parquet('hf://datasets/yandex/yambda/sequential/50m/multi_event.parquet')\n",
    "embeds_df = pl.read_parquet('hf://datasets/yandex/yambda/embeddings.parquet')\n",
    "album_item_mapping = pl.read_parquet('hf://datasets/yandex/yambda/album_item_mapping.parquet')\n",
    "artist_item_mapping = pl.read_parquet('hf://datasets/yandex/yambda/artist_item_mapping.parquet')\n"
   ]
  },
  {
   "cell_type": "code",
   "execution_count": 25,
   "id": "dded2e16",
   "metadata": {},
   "outputs": [
    {
     "data": {
      "text/html": [
       "<div><style>\n",
       ".dataframe > thead > tr,\n",
       ".dataframe > tbody > tr {\n",
       "  text-align: right;\n",
       "  white-space: pre-wrap;\n",
       "}\n",
       "</style>\n",
       "<small>shape: (5, 7)</small><table border=\"1\" class=\"dataframe\"><thead><tr><th>uid</th><th>timestamp</th><th>item_id</th><th>is_organic</th><th>played_ratio_pct</th><th>track_length_seconds</th><th>event_type</th></tr><tr><td>u32</td><td>u32</td><td>u32</td><td>u8</td><td>u16</td><td>u32</td><td>enum</td></tr></thead><tbody><tr><td>100</td><td>39420</td><td>8326270</td><td>0</td><td>100</td><td>170</td><td>&quot;listen&quot;</td></tr><tr><td>100</td><td>39420</td><td>1441281</td><td>0</td><td>100</td><td>105</td><td>&quot;listen&quot;</td></tr><tr><td>100</td><td>39625</td><td>286361</td><td>0</td><td>100</td><td>185</td><td>&quot;listen&quot;</td></tr><tr><td>100</td><td>40110</td><td>732449</td><td>0</td><td>100</td><td>240</td><td>&quot;listen&quot;</td></tr><tr><td>100</td><td>40360</td><td>3397170</td><td>0</td><td>46</td><td>130</td><td>&quot;listen&quot;</td></tr></tbody></table></div>"
      ],
      "text/plain": [
       "shape: (5, 7)\n",
       "┌─────┬───────────┬─────────┬────────────┬──────────────────┬──────────────────────┬────────────┐\n",
       "│ uid ┆ timestamp ┆ item_id ┆ is_organic ┆ played_ratio_pct ┆ track_length_seconds ┆ event_type │\n",
       "│ --- ┆ ---       ┆ ---     ┆ ---        ┆ ---              ┆ ---                  ┆ ---        │\n",
       "│ u32 ┆ u32       ┆ u32     ┆ u8         ┆ u16              ┆ u32                  ┆ enum       │\n",
       "╞═════╪═══════════╪═════════╪════════════╪══════════════════╪══════════════════════╪════════════╡\n",
       "│ 100 ┆ 39420     ┆ 8326270 ┆ 0          ┆ 100              ┆ 170                  ┆ listen     │\n",
       "│ 100 ┆ 39420     ┆ 1441281 ┆ 0          ┆ 100              ┆ 105                  ┆ listen     │\n",
       "│ 100 ┆ 39625     ┆ 286361  ┆ 0          ┆ 100              ┆ 185                  ┆ listen     │\n",
       "│ 100 ┆ 40110     ┆ 732449  ┆ 0          ┆ 100              ┆ 240                  ┆ listen     │\n",
       "│ 100 ┆ 40360     ┆ 3397170 ┆ 0          ┆ 46               ┆ 130                  ┆ listen     │\n",
       "└─────┴───────────┴─────────┴────────────┴──────────────────┴──────────────────────┴────────────┘"
      ]
     },
     "execution_count": 25,
     "metadata": {},
     "output_type": "execute_result"
    }
   ],
   "source": [
    "df.head()"
   ]
  },
  {
   "cell_type": "code",
   "execution_count": null,
   "id": "8c9350e9",
   "metadata": {},
   "outputs": [
    {
     "data": {
      "text/html": [
       "<div><style>\n",
       ".dataframe > thead > tr,\n",
       ".dataframe > tbody > tr {\n",
       "  text-align: right;\n",
       "  white-space: pre-wrap;\n",
       "}\n",
       "</style>\n",
       "<small>shape: (5, 7)</small><table border=\"1\" class=\"dataframe\"><thead><tr><th>uid</th><th>timestamp</th><th>item_id</th><th>is_organic</th><th>played_ratio_pct</th><th>track_length_seconds</th><th>event_type</th></tr><tr><td>u32</td><td>list[u32]</td><td>list[u32]</td><td>list[u8]</td><td>list[u16]</td><td>list[u32]</td><td>list[enum]</td></tr></thead><tbody><tr><td>100</td><td>[39420, 39420, … 25966140]</td><td>[8326270, 1441281, … 4734787]</td><td>[0, 0, … 0]</td><td>[100, 100, … 100]</td><td>[170, 105, … 165]</td><td>[&quot;listen&quot;, &quot;listen&quot;, … &quot;listen&quot;]</td></tr><tr><td>200</td><td>[14329075, 14329075, … 25456725]</td><td>[3285270, 5253582, … 3778807]</td><td>[1, 1, … 1]</td><td>[9, 28, … 100]</td><td>[170, 170, … 145]</td><td>[&quot;listen&quot;, &quot;listen&quot;, … &quot;listen&quot;]</td></tr><tr><td>300</td><td>[54090, 54100, … 25907225]</td><td>[618910, 8793425, … 9286415]</td><td>[1, 1, … 1]</td><td>[2, 4, … 15]</td><td>[270, 130, … 210]</td><td>[&quot;listen&quot;, &quot;listen&quot;, … &quot;listen&quot;]</td></tr><tr><td>400</td><td>[2980800, 3157520, … 25900470]</td><td>[399811, 1575108, … 5001732]</td><td>[1, 1, … 1]</td><td>[null, null, … null]</td><td>[null, null, … null]</td><td>[&quot;dislike&quot;, &quot;dislike&quot;, … &quot;like&quot;]</td></tr><tr><td>500</td><td>[22695440, 22695690, … 24861450]</td><td>[6417502, 6896222, … 4077285]</td><td>[0, 0, … 1]</td><td>[100, 37, … 13]</td><td>[225, 210, … 230]</td><td>[&quot;listen&quot;, &quot;listen&quot;, … &quot;listen&quot;]</td></tr></tbody></table></div>"
      ],
      "text/plain": [
       "shape: (5, 7)\n",
       "┌─────┬───────────────┬───────────────┬─────────────┬───────────────┬───────────────┬──────────────┐\n",
       "│ uid ┆ timestamp     ┆ item_id       ┆ is_organic  ┆ played_ratio_ ┆ track_length_ ┆ event_type   │\n",
       "│ --- ┆ ---           ┆ ---           ┆ ---         ┆ pct           ┆ seconds       ┆ ---          │\n",
       "│ u32 ┆ list[u32]     ┆ list[u32]     ┆ list[u8]    ┆ ---           ┆ ---           ┆ list[enum]   │\n",
       "│     ┆               ┆               ┆             ┆ list[u16]     ┆ list[u32]     ┆              │\n",
       "╞═════╪═══════════════╪═══════════════╪═════════════╪═══════════════╪═══════════════╪══════════════╡\n",
       "│ 100 ┆ [39420,       ┆ [8326270,     ┆ [0, 0, … 0] ┆ [100, 100, …  ┆ [170, 105, …  ┆ [\"listen\",   │\n",
       "│     ┆ 39420, …      ┆ 1441281, …    ┆             ┆ 100]          ┆ 165]          ┆ \"listen\", …  │\n",
       "│     ┆ 25966140]     ┆ 4734787]      ┆             ┆               ┆               ┆ \"listen…     │\n",
       "│ 200 ┆ [14329075,    ┆ [3285270,     ┆ [1, 1, … 1] ┆ [9, 28, …     ┆ [170, 170, …  ┆ [\"listen\",   │\n",
       "│     ┆ 14329075, …   ┆ 5253582, …    ┆             ┆ 100]          ┆ 145]          ┆ \"listen\", …  │\n",
       "│     ┆ 2545672…      ┆ 3778807]      ┆             ┆               ┆               ┆ \"listen…     │\n",
       "│ 300 ┆ [54090,       ┆ [618910,      ┆ [1, 1, … 1] ┆ [2, 4, … 15]  ┆ [270, 130, …  ┆ [\"listen\",   │\n",
       "│     ┆ 54100, …      ┆ 8793425, …    ┆             ┆               ┆ 210]          ┆ \"listen\", …  │\n",
       "│     ┆ 25907225]     ┆ 9286415]      ┆             ┆               ┆               ┆ \"listen…     │\n",
       "│ 400 ┆ [2980800,     ┆ [399811,      ┆ [1, 1, … 1] ┆ [null, null,  ┆ [null, null,  ┆ [\"dislike\",  │\n",
       "│     ┆ 3157520, …    ┆ 1575108, …    ┆             ┆ … null]       ┆ … null]       ┆ \"dislike\", … │\n",
       "│     ┆ 25900470]     ┆ 5001732]      ┆             ┆               ┆               ┆ \"like…       │\n",
       "│ 500 ┆ [22695440,    ┆ [6417502,     ┆ [0, 0, … 1] ┆ [100, 37, …   ┆ [225, 210, …  ┆ [\"listen\",   │\n",
       "│     ┆ 22695690, …   ┆ 6896222, …    ┆             ┆ 13]           ┆ 230]          ┆ \"listen\", …  │\n",
       "│     ┆ 2486145…      ┆ 4077285]      ┆             ┆               ┆               ┆ \"listen…     │\n",
       "└─────┴───────────────┴───────────────┴─────────────┴───────────────┴───────────────┴──────────────┘"
      ]
     },
     "execution_count": 23,
     "metadata": {},
     "output_type": "execute_result"
    }
   ],
   "source": [
    "seq_df.head()"
   ]
  },
  {
   "cell_type": "code",
   "execution_count": null,
   "id": "9c039b1c",
   "metadata": {},
   "outputs": [],
   "source": []
  }
 ],
 "metadata": {
  "kernelspec": {
   "display_name": "recsys_env",
   "language": "python",
   "name": "python3"
  },
  "language_info": {
   "codemirror_mode": {
    "name": "ipython",
    "version": 3
   },
   "file_extension": ".py",
   "mimetype": "text/x-python",
   "name": "python",
   "nbconvert_exporter": "python",
   "pygments_lexer": "ipython3",
   "version": "3.13.5"
  }
 },
 "nbformat": 4,
 "nbformat_minor": 5
}
