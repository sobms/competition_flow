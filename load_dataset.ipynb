{
 "cells": [
  {
   "cell_type": "code",
   "execution_count": 3,
   "id": "100031eb",
   "metadata": {},
   "outputs": [
    {
     "name": "stdout",
     "output_type": "stream",
     "text": [
      "Requirement already satisfied: tqdm in /root/anaconda3/lib/python3.11/site-packages (4.65.0)\n",
      "\u001b[33mWARNING: Running pip as the 'root' user can result in broken permissions and conflicting behaviour with the system package manager. It is recommended to use a virtual environment instead: https://pip.pypa.io/warnings/venv\u001b[0m\u001b[33m\n",
      "\u001b[0m"
     ]
    }
   ],
   "source": [
    "!pip install tqdm"
   ]
  },
  {
   "cell_type": "code",
   "execution_count": 1,
   "id": "8c9350e9",
   "metadata": {},
   "outputs": [
    {
     "name": "stdout",
     "output_type": "stream",
     "text": [
      "Найдено файлов заказов: 64\n",
      "Найдено файлов взаимодействий: 64\n",
      "Найдено файлов товаров: 100\n"
     ]
    },
    {
     "name": "stderr",
     "output_type": "stream",
     "text": [
      "Загрузка заказов: 100%|██████████| 2/2 [00:00<00:00, 58.87it/s]\n"
     ]
    },
    {
     "name": "stdout",
     "output_type": "stream",
     "text": [
      "Загружено заказов: 468,688\n"
     ]
    },
    {
     "name": "stderr",
     "output_type": "stream",
     "text": [
      "Загрузка взаимодействий: 100%|██████████| 2/2 [00:00<00:00,  7.40it/s]\n"
     ]
    },
    {
     "name": "stdout",
     "output_type": "stream",
     "text": [
      "Загружено взаимодействий: 42,391,878\n"
     ]
    },
    {
     "name": "stderr",
     "output_type": "stream",
     "text": [
      "Загрузка товаров: 100%|██████████| 10/10 [00:04<00:00,  2.12it/s]"
     ]
    },
    {
     "name": "stdout",
     "output_type": "stream",
     "text": [
      "Загружено товаров: 644,381\n"
     ]
    },
    {
     "name": "stderr",
     "output_type": "stream",
     "text": [
      "\n"
     ]
    }
   ],
   "source": [
    "import polars as pl\n",
    "import glob\n",
    "from pathlib import Path\n",
    "from tqdm import tqdm\n",
    "\n",
    "base_dir = Path('data/splits/train')\n",
    "raw_dir = Path('data/raw_data')\n",
    "# cats_tree = glob.glob(str(base_dir / 'ml_ozon_recsys_categories_tree/*.parquet'))[0]\n",
    "orders_files = glob.glob(str(base_dir / 'ml_ozon_recsys_orders_data/*.parquet'))\n",
    "tracker_files = glob.glob(str(base_dir /'ml_ozon_recsys_tracker_data/*.parquet'))\n",
    "items_files = glob.glob(str(raw_dir /'ml_ozon_recsys_items_data/*.parquet'))\n",
    "\n",
    "print(f\"Найдено файлов заказов: {len(orders_files)}\")\n",
    "print(f\"Найдено файлов взаимодействий: {len(tracker_files)}\")\n",
    "print(f\"Найдено файлов товаров: {len(items_files)}\")\n",
    "\n",
    "\n",
    "# categories_df = pl.read_parquet(cats_tree)\n",
    "# print(f\"Загружено категорий: {len(categories_df):,}\")\n",
    "\n",
    "orders_data = []\n",
    "for file_path in tqdm(orders_files[:2], desc=\"Загрузка заказов\"):\n",
    "    df = pl.read_parquet(file_path)\n",
    "    orders_data.append(df)\n",
    "orders_df = pl.concat(orders_data)\n",
    "print(f\"Загружено заказов: {len(orders_df):,}\")\n",
    "\n",
    "tracker_data = []\n",
    "for file_path in tqdm(tracker_files[:2], desc=\"Загрузка взаимодействий\"):\n",
    "    df = pl.read_parquet(file_path)\n",
    "    tracker_data.append(df)\n",
    "tracker_df = pl.concat(tracker_data)\n",
    "print(f\"Загружено взаимодействий: {len(tracker_df):,}\")\n",
    "\n",
    "items_data = []\n",
    "for file_path in tqdm(items_files[:10], desc=\"Загрузка товаров\"):\n",
    "    df = pl.read_parquet(file_path)\n",
    "    items_data.append(df)\n",
    "items_df = pl.concat(items_data)\n",
    "print(f\"Загружено товаров: {len(items_df):,}\")"
   ]
  },
  {
   "cell_type": "code",
   "execution_count": 2,
   "id": "4b82d7e6",
   "metadata": {},
   "outputs": [],
   "source": [
    "d = pl.read_parquet('data/processed_features/final_features/train/shard=00000.parquet')"
   ]
  },
  {
   "cell_type": "code",
   "execution_count": 3,
   "id": "d2d58da8",
   "metadata": {},
   "outputs": [
    {
     "data": {
      "text/html": [
       "<div><style>\n",
       ".dataframe > thead > tr,\n",
       ".dataframe > tbody > tr {\n",
       "  text-align: right;\n",
       "  white-space: pre-wrap;\n",
       "}\n",
       "</style>\n",
       "<small>shape: (1_432_468, 22)</small><table border=\"1\" class=\"dataframe\"><thead><tr><th>date</th><th>user_id</th><th>item_id</th><th>target</th><th>cnt_to_cart_sum_7d_past</th><th>cnt_remove_sum_7d_past</th><th>cnt_page_view_sum_7d_past</th><th>cnt_review_view_sum_7d_past</th><th>cnt_favorite_sum_7d_past</th><th>cnt_unfavorite_sum_7d_past</th><th>cnt_view_description_sum_7d_past</th><th>cnt_to_cart_sum_30d_past</th><th>cnt_remove_sum_30d_past</th><th>cnt_page_view_sum_30d_past</th><th>cnt_review_view_sum_30d_past</th><th>cnt_favorite_sum_30d_past</th><th>cnt_unfavorite_sum_30d_past</th><th>cnt_view_description_sum_30d_past</th><th>fclip_embed</th><th>catalogid</th><th>variant_id</th><th>model_id</th></tr><tr><td>date</td><td>i64</td><td>i64</td><td>i32</td><td>u32</td><td>u32</td><td>u32</td><td>u32</td><td>u32</td><td>u32</td><td>u32</td><td>u32</td><td>u32</td><td>u32</td><td>u32</td><td>u32</td><td>u32</td><td>u32</td><td>list[f32]</td><td>str</td><td>str</td><td>str</td></tr></thead><tbody><tr><td>2025-02-08</td><td>4838400</td><td>2680018</td><td>0</td><td>0</td><td>0</td><td>1</td><td>0</td><td>0</td><td>0</td><td>0</td><td>0</td><td>0</td><td>0</td><td>0</td><td>0</td><td>0</td><td>0</td><td>[0.297032, 0.239639, … -0.148826]</td><td>&quot;7537&quot;</td><td>&quot;183126477&quot;</td><td>&quot;13944756&quot;</td></tr><tr><td>2025-01-19</td><td>4577280</td><td>5325547</td><td>0</td><td>0</td><td>0</td><td>1</td><td>0</td><td>0</td><td>0</td><td>0</td><td>0</td><td>0</td><td>0</td><td>0</td><td>0</td><td>0</td><td>0</td><td>[-0.068972, 0.190228, … -0.09512]</td><td>&quot;30109&quot;</td><td>&quot;210167604&quot;</td><td>&quot;13086190&quot;</td></tr><tr><td>2025-02-22</td><td>4899840</td><td>12190424</td><td>0</td><td>0</td><td>0</td><td>0</td><td>0</td><td>0</td><td>0</td><td>0</td><td>0</td><td>0</td><td>1</td><td>0</td><td>0</td><td>0</td><td>1</td><td>[0.001359, -1.269692, … -0.562895]</td><td>&quot;36484&quot;</td><td>&quot;36020109&quot;</td><td>&quot;9472331&quot;</td></tr><tr><td>2025-04-22</td><td>737280</td><td>12728439</td><td>0</td><td>0</td><td>0</td><td>0</td><td>0</td><td>0</td><td>0</td><td>0</td><td>0</td><td>0</td><td>1</td><td>0</td><td>0</td><td>0</td><td>2</td><td>[-0.009694, 0.509236, … -0.108296]</td><td>&quot;7651&quot;</td><td>&quot;262720630&quot;</td><td>&quot;24328631&quot;</td></tr><tr><td>2025-02-22</td><td>5058560</td><td>18260192</td><td>0</td><td>0</td><td>0</td><td>1</td><td>0</td><td>0</td><td>0</td><td>0</td><td>0</td><td>0</td><td>0</td><td>0</td><td>0</td><td>0</td><td>0</td><td>[-0.189782, 0.463045, … -0.129218]</td><td>&quot;7653&quot;</td><td>&quot;315722787&quot;</td><td>&quot;26759893&quot;</td></tr><tr><td>&hellip;</td><td>&hellip;</td><td>&hellip;</td><td>&hellip;</td><td>&hellip;</td><td>&hellip;</td><td>&hellip;</td><td>&hellip;</td><td>&hellip;</td><td>&hellip;</td><td>&hellip;</td><td>&hellip;</td><td>&hellip;</td><td>&hellip;</td><td>&hellip;</td><td>&hellip;</td><td>&hellip;</td><td>&hellip;</td><td>&hellip;</td><td>&hellip;</td><td>&hellip;</td><td>&hellip;</td></tr><tr><td>2025-02-18</td><td>1930240</td><td>261025169</td><td>0</td><td>0</td><td>0</td><td>0</td><td>0</td><td>0</td><td>0</td><td>0</td><td>0</td><td>0</td><td>1</td><td>0</td><td>0</td><td>0</td><td>0</td><td>[0.199068, 0.329278, … -0.046903]</td><td>&quot;7512&quot;</td><td>&quot;2720613&quot;</td><td>&quot;28709698&quot;</td></tr><tr><td>2025-04-15</td><td>1664000</td><td>261025169</td><td>0</td><td>0</td><td>0</td><td>0</td><td>0</td><td>0</td><td>0</td><td>0</td><td>0</td><td>0</td><td>1</td><td>0</td><td>0</td><td>0</td><td>0</td><td>[0.199068, 0.329278, … -0.046903]</td><td>&quot;7512&quot;</td><td>&quot;2720613&quot;</td><td>&quot;28709698&quot;</td></tr><tr><td>2025-02-18</td><td>1930240</td><td>261025169</td><td>0</td><td>0</td><td>0</td><td>1</td><td>0</td><td>0</td><td>0</td><td>0</td><td>0</td><td>0</td><td>0</td><td>0</td><td>0</td><td>0</td><td>0</td><td>[0.199068, 0.329278, … -0.046903]</td><td>&quot;7512&quot;</td><td>&quot;2720613&quot;</td><td>&quot;28709698&quot;</td></tr><tr><td>2025-04-15</td><td>1664000</td><td>261025169</td><td>0</td><td>0</td><td>0</td><td>1</td><td>0</td><td>0</td><td>0</td><td>0</td><td>0</td><td>0</td><td>0</td><td>0</td><td>0</td><td>0</td><td>0</td><td>[0.199068, 0.329278, … -0.046903]</td><td>&quot;7512&quot;</td><td>&quot;2720613&quot;</td><td>&quot;28709698&quot;</td></tr><tr><td>2025-05-08</td><td>378880</td><td>261025169</td><td>0</td><td>0</td><td>0</td><td>1</td><td>0</td><td>0</td><td>0</td><td>0</td><td>0</td><td>0</td><td>0</td><td>0</td><td>0</td><td>0</td><td>0</td><td>[0.199068, 0.329278, … -0.046903]</td><td>&quot;7512&quot;</td><td>&quot;2720613&quot;</td><td>&quot;28709698&quot;</td></tr></tbody></table></div>"
      ],
      "text/plain": [
       "shape: (1_432_468, 22)\n",
       "┌────────────┬─────────┬───────────┬────────┬───┬──────────────┬───────────┬────────────┬──────────┐\n",
       "│ date       ┆ user_id ┆ item_id   ┆ target ┆ … ┆ fclip_embed  ┆ catalogid ┆ variant_id ┆ model_id │\n",
       "│ ---        ┆ ---     ┆ ---       ┆ ---    ┆   ┆ ---          ┆ ---       ┆ ---        ┆ ---      │\n",
       "│ date       ┆ i64     ┆ i64       ┆ i32    ┆   ┆ list[f32]    ┆ str       ┆ str        ┆ str      │\n",
       "╞════════════╪═════════╪═══════════╪════════╪═══╪══════════════╪═══════════╪════════════╪══════════╡\n",
       "│ 2025-02-08 ┆ 4838400 ┆ 2680018   ┆ 0      ┆ … ┆ [0.297032,   ┆ 7537      ┆ 183126477  ┆ 13944756 │\n",
       "│            ┆         ┆           ┆        ┆   ┆ 0.239639, …  ┆           ┆            ┆          │\n",
       "│            ┆         ┆           ┆        ┆   ┆ -0.1488…     ┆           ┆            ┆          │\n",
       "│ 2025-01-19 ┆ 4577280 ┆ 5325547   ┆ 0      ┆ … ┆ [-0.068972,  ┆ 30109     ┆ 210167604  ┆ 13086190 │\n",
       "│            ┆         ┆           ┆        ┆   ┆ 0.190228, …  ┆           ┆            ┆          │\n",
       "│            ┆         ┆           ┆        ┆   ┆ -0.095…      ┆           ┆            ┆          │\n",
       "│ 2025-02-22 ┆ 4899840 ┆ 12190424  ┆ 0      ┆ … ┆ [0.001359,   ┆ 36484     ┆ 36020109   ┆ 9472331  │\n",
       "│            ┆         ┆           ┆        ┆   ┆ -1.269692, … ┆           ┆            ┆          │\n",
       "│            ┆         ┆           ┆        ┆   ┆ -0.562…      ┆           ┆            ┆          │\n",
       "│ 2025-04-22 ┆ 737280  ┆ 12728439  ┆ 0      ┆ … ┆ [-0.009694,  ┆ 7651      ┆ 262720630  ┆ 24328631 │\n",
       "│            ┆         ┆           ┆        ┆   ┆ 0.509236, …  ┆           ┆            ┆          │\n",
       "│            ┆         ┆           ┆        ┆   ┆ -0.108…      ┆           ┆            ┆          │\n",
       "│ 2025-02-22 ┆ 5058560 ┆ 18260192  ┆ 0      ┆ … ┆ [-0.189782,  ┆ 7653      ┆ 315722787  ┆ 26759893 │\n",
       "│            ┆         ┆           ┆        ┆   ┆ 0.463045, …  ┆           ┆            ┆          │\n",
       "│            ┆         ┆           ┆        ┆   ┆ -0.129…      ┆           ┆            ┆          │\n",
       "│ …          ┆ …       ┆ …         ┆ …      ┆ … ┆ …            ┆ …         ┆ …          ┆ …        │\n",
       "│ 2025-02-18 ┆ 1930240 ┆ 261025169 ┆ 0      ┆ … ┆ [0.199068,   ┆ 7512      ┆ 2720613    ┆ 28709698 │\n",
       "│            ┆         ┆           ┆        ┆   ┆ 0.329278, …  ┆           ┆            ┆          │\n",
       "│            ┆         ┆           ┆        ┆   ┆ -0.0469…     ┆           ┆            ┆          │\n",
       "│ 2025-04-15 ┆ 1664000 ┆ 261025169 ┆ 0      ┆ … ┆ [0.199068,   ┆ 7512      ┆ 2720613    ┆ 28709698 │\n",
       "│            ┆         ┆           ┆        ┆   ┆ 0.329278, …  ┆           ┆            ┆          │\n",
       "│            ┆         ┆           ┆        ┆   ┆ -0.0469…     ┆           ┆            ┆          │\n",
       "│ 2025-02-18 ┆ 1930240 ┆ 261025169 ┆ 0      ┆ … ┆ [0.199068,   ┆ 7512      ┆ 2720613    ┆ 28709698 │\n",
       "│            ┆         ┆           ┆        ┆   ┆ 0.329278, …  ┆           ┆            ┆          │\n",
       "│            ┆         ┆           ┆        ┆   ┆ -0.0469…     ┆           ┆            ┆          │\n",
       "│ 2025-04-15 ┆ 1664000 ┆ 261025169 ┆ 0      ┆ … ┆ [0.199068,   ┆ 7512      ┆ 2720613    ┆ 28709698 │\n",
       "│            ┆         ┆           ┆        ┆   ┆ 0.329278, …  ┆           ┆            ┆          │\n",
       "│            ┆         ┆           ┆        ┆   ┆ -0.0469…     ┆           ┆            ┆          │\n",
       "│ 2025-05-08 ┆ 378880  ┆ 261025169 ┆ 0      ┆ … ┆ [0.199068,   ┆ 7512      ┆ 2720613    ┆ 28709698 │\n",
       "│            ┆         ┆           ┆        ┆   ┆ 0.329278, …  ┆           ┆            ┆          │\n",
       "│            ┆         ┆           ┆        ┆   ┆ -0.0469…     ┆           ┆            ┆          │\n",
       "└────────────┴─────────┴───────────┴────────┴───┴──────────────┴───────────┴────────────┴──────────┘"
      ]
     },
     "execution_count": 3,
     "metadata": {},
     "output_type": "execute_result"
    }
   ],
   "source": [
    "d"
   ]
  },
  {
   "cell_type": "code",
   "execution_count": 2,
   "id": "43609a1f",
   "metadata": {},
   "outputs": [
    {
     "name": "stderr",
     "output_type": "stream",
     "text": [
      "Загрузка взаимодействий: 100%|██████████| 2/2 [00:00<00:00,  6.87it/s]\n"
     ]
    }
   ],
   "source": [
    "# tracker_files = glob.glob(str('data/raw_data/extra_ml_ozon_recsys_train/final_apparel_tracker_data_08_action_widget/date=2025-07-02/*.parquet'))\n",
    "tracker_data = []\n",
    "for file_path in tqdm(tracker_files[:2], desc=\"Загрузка взаимодействий\"):\n",
    "    df = pl.read_parquet(file_path)\n",
    "    tracker_data.append(df)\n",
    "tracker_df2 = pl.concat(tracker_data)"
   ]
  },
  {
   "cell_type": "code",
   "execution_count": 4,
   "id": "17a45daf",
   "metadata": {},
   "outputs": [
    {
     "data": {
      "text/html": [
       "<div><style>\n",
       ".dataframe > thead > tr,\n",
       ".dataframe > tbody > tr {\n",
       "  text-align: right;\n",
       "  white-space: pre-wrap;\n",
       "}\n",
       "</style>\n",
       "<small>shape: (100, 2)</small><table border=\"1\" class=\"dataframe\"><thead><tr><th>action_widget</th><th>count</th></tr><tr><td>str</td><td>u32</td></tr></thead><tbody><tr><td>&quot;favorites.listSelector&quot;</td><td>8</td></tr><tr><td>&quot;cart.sharingCart&quot;</td><td>13</td></tr><tr><td>&quot;pdp.webCharacteristics&quot;</td><td>739322</td></tr><tr><td>&quot;rpProduct.glueReviewList&quot;</td><td>18</td></tr><tr><td>&quot;favorites.sharedListSearchResu…</td><td>868</td></tr><tr><td>&hellip;</td><td>&hellip;</td></tr><tr><td>&quot;pdp.aspectsApparelSize&quot;</td><td>1</td></tr><tr><td>&quot;express.cartButtonPopup&quot;</td><td>8</td></tr><tr><td>&quot;shelf.analogShelfPersonal&quot;</td><td>2455916</td></tr><tr><td>&quot;shelf.apparelPersonalKids&quot;</td><td>9430</td></tr><tr><td>&quot;favorites.searchResultsV2&quot;</td><td>2153316</td></tr></tbody></table></div>"
      ],
      "text/plain": [
       "shape: (100, 2)\n",
       "┌─────────────────────────────────┬─────────┐\n",
       "│ action_widget                   ┆ count   │\n",
       "│ ---                             ┆ ---     │\n",
       "│ str                             ┆ u32     │\n",
       "╞═════════════════════════════════╪═════════╡\n",
       "│ favorites.listSelector          ┆ 8       │\n",
       "│ cart.sharingCart                ┆ 13      │\n",
       "│ pdp.webCharacteristics          ┆ 739322  │\n",
       "│ rpProduct.glueReviewList        ┆ 18      │\n",
       "│ favorites.sharedListSearchResu… ┆ 868     │\n",
       "│ …                               ┆ …       │\n",
       "│ pdp.aspectsApparelSize          ┆ 1       │\n",
       "│ express.cartButtonPopup         ┆ 8       │\n",
       "│ shelf.analogShelfPersonal       ┆ 2455916 │\n",
       "│ shelf.apparelPersonalKids       ┆ 9430    │\n",
       "│ favorites.searchResultsV2       ┆ 2153316 │\n",
       "└─────────────────────────────────┴─────────┘"
      ]
     },
     "execution_count": 4,
     "metadata": {},
     "output_type": "execute_result"
    }
   ],
   "source": [
    "tracker_df2['action_widget'].value_counts()"
   ]
  },
  {
   "cell_type": "code",
   "execution_count": 13,
   "id": "f82afc44",
   "metadata": {},
   "outputs": [
    {
     "name": "stderr",
     "output_type": "stream",
     "text": [
      "Загрузка взаимодействий: 100%|██████████| 7/7 [00:00<00:00, 36.51it/s]\n"
     ]
    }
   ],
   "source": [
    "tracker_files = glob.glob(str('data/raw_data/extra_ml_ozon_recsys_train/archive_extra_tracker_data/final_apparel_tracker_data_08/date=2025-07-02/*.parquet'))\n",
    "tracker_data = []\n",
    "for file_path in tqdm(tracker_files, desc=\"Загрузка взаимодействий\"):\n",
    "    df = pl.read_parquet(file_path)\n",
    "    tracker_data.append(df)\n",
    "tracker_df = pl.concat(tracker_data)\n",
    "# tracker_files = glob.glob(str(base_dir /'ml_ozon_recsys_tracker_data/*.parquet'))"
   ]
  },
  {
   "cell_type": "code",
   "execution_count": null,
   "id": "cbebd5ea",
   "metadata": {},
   "outputs": [
    {
     "data": {
      "text/html": [
       "<div><style>\n",
       ".dataframe > thead > tr,\n",
       ".dataframe > tbody > tr {\n",
       "  text-align: right;\n",
       "  white-space: pre-wrap;\n",
       "}\n",
       "</style>\n",
       "<small>shape: (9_613, 3)</small><table border=\"1\" class=\"dataframe\"><thead><tr><th>item_id</th><th>user_id</th><th>created_timestamp</th></tr><tr><td>i32</td><td>i32</td><td>datetime[ns]</td></tr></thead><tbody><tr><td>119241</td><td>1156930</td><td>2025-07-03 08:30:48.743</td></tr><tr><td>350526</td><td>3772191</td><td>2025-07-03 12:51:19.050</td></tr><tr><td>427645</td><td>4953991</td><td>2025-07-03 04:09:18.837</td></tr><tr><td>617762</td><td>3048491</td><td>2025-07-03 16:15:38.360</td></tr><tr><td>936816</td><td>1079151</td><td>2025-07-03 15:21:25.660</td></tr><tr><td>&hellip;</td><td>&hellip;</td><td>&hellip;</td></tr><tr><td>338179520</td><td>3231021</td><td>2025-07-03 13:02:09.883</td></tr><tr><td>338228174</td><td>3370921</td><td>2025-07-03 21:16:05.197</td></tr><tr><td>338664755</td><td>2554151</td><td>2025-07-03 15:56:22.553</td></tr><tr><td>339036146</td><td>1648140</td><td>2025-07-03 21:53:27.313</td></tr><tr><td>339331344</td><td>2491990</td><td>2025-07-03 21:41:30.523</td></tr></tbody></table></div>"
      ],
      "text/plain": [
       "shape: (9_613, 3)\n",
       "┌───────────┬─────────┬─────────────────────────┐\n",
       "│ item_id   ┆ user_id ┆ created_timestamp       │\n",
       "│ ---       ┆ ---     ┆ ---                     │\n",
       "│ i32       ┆ i32     ┆ datetime[ns]            │\n",
       "╞═══════════╪═════════╪═════════════════════════╡\n",
       "│ 119241    ┆ 1156930 ┆ 2025-07-03 08:30:48.743 │\n",
       "│ 350526    ┆ 3772191 ┆ 2025-07-03 12:51:19.050 │\n",
       "│ 427645    ┆ 4953991 ┆ 2025-07-03 04:09:18.837 │\n",
       "│ 617762    ┆ 3048491 ┆ 2025-07-03 16:15:38.360 │\n",
       "│ 936816    ┆ 1079151 ┆ 2025-07-03 15:21:25.660 │\n",
       "│ …         ┆ …       ┆ …                       │\n",
       "│ 338179520 ┆ 3231021 ┆ 2025-07-03 13:02:09.883 │\n",
       "│ 338228174 ┆ 3370921 ┆ 2025-07-03 21:16:05.197 │\n",
       "│ 338664755 ┆ 2554151 ┆ 2025-07-03 15:56:22.553 │\n",
       "│ 339036146 ┆ 1648140 ┆ 2025-07-03 21:53:27.313 │\n",
       "│ 339331344 ┆ 2491990 ┆ 2025-07-03 21:41:30.523 │\n",
       "└───────────┴─────────┴─────────────────────────┘"
      ]
     },
     "execution_count": 18,
     "metadata": {},
     "output_type": "execute_result"
    }
   ],
   "source": [
    "pl.read_parquet('data/raw_data/ml_ozon_recsys_test.snappy.parquet')"
   ]
  },
  {
   "cell_type": "code",
   "execution_count": 5,
   "id": "b368529f",
   "metadata": {},
   "outputs": [
    {
     "data": {
      "text/html": [
       "<div><style>\n",
       ".dataframe > thead > tr,\n",
       ".dataframe > tbody > tr {\n",
       "  text-align: right;\n",
       "  white-space: pre-wrap;\n",
       "}\n",
       "</style>\n",
       "<small>shape: (468_688, 6)</small><table border=\"1\" class=\"dataframe\"><thead><tr><th>item_id</th><th>user_id</th><th>created_timestamp</th><th>last_status</th><th>last_status_timestamp</th><th>created_date</th></tr><tr><td>i32</td><td>i32</td><td>datetime[ns]</td><td>str</td><td>datetime[ns]</td><td>str</td></tr></thead><tbody><tr><td>893255</td><td>869690</td><td>2025-03-31 19:51:01</td><td>&quot;canceled_orders&quot;</td><td>2025-04-05 17:40:45</td><td>&quot;2025-03-31&quot;</td></tr><tr><td>977450</td><td>2718650</td><td>2025-01-25 05:49:04.380</td><td>&quot;delivered_orders&quot;</td><td>2025-01-27 16:06:08</td><td>&quot;2025-01-25&quot;</td></tr><tr><td>977450</td><td>2153530</td><td>2025-03-13 09:36:15.156</td><td>&quot;canceled_orders&quot;</td><td>2025-03-17 12:38:58</td><td>&quot;2025-03-13&quot;</td></tr><tr><td>1466168</td><td>1581690</td><td>2025-02-03 02:57:41.870</td><td>&quot;delivered_orders&quot;</td><td>2025-02-07 10:46:29</td><td>&quot;2025-02-03&quot;</td></tr><tr><td>1466168</td><td>4390650</td><td>2025-05-31 09:43:30.386</td><td>&quot;canceled_orders&quot;</td><td>2025-06-06 21:22:11</td><td>&quot;2025-05-31&quot;</td></tr><tr><td>&hellip;</td><td>&hellip;</td><td>&hellip;</td><td>&hellip;</td><td>&hellip;</td><td>&hellip;</td></tr><tr><td>335544115</td><td>1890160</td><td>2025-04-20 09:08:34.840</td><td>&quot;canceled_orders&quot;</td><td>2025-04-25 11:39:14</td><td>&quot;2025-04-20&quot;</td></tr><tr><td>335727473</td><td>4993840</td><td>2025-05-01 22:52:46.870</td><td>&quot;canceled_orders&quot;</td><td>2025-05-18 01:13:39</td><td>&quot;2025-05-01&quot;</td></tr><tr><td>337880792</td><td>4103920</td><td>2025-04-29 03:58:12.463</td><td>&quot;delivered_orders&quot;</td><td>2025-05-07 11:24:50</td><td>&quot;2025-04-29&quot;</td></tr><tr><td>338550933</td><td>3619760</td><td>2025-01-05 16:17:27.833</td><td>&quot;canceled_orders&quot;</td><td>2025-01-05 17:47:13.110</td><td>&quot;2025-01-05&quot;</td></tr><tr><td>339229595</td><td>3097840</td><td>2025-05-21 14:12:52.820</td><td>&quot;delivered_orders&quot;</td><td>2025-05-22 17:59:42</td><td>&quot;2025-05-21&quot;</td></tr></tbody></table></div>"
      ],
      "text/plain": [
       "shape: (468_688, 6)\n",
       "┌───────────┬─────────┬─────────────────────┬──────────────────┬────────────────────┬──────────────┐\n",
       "│ item_id   ┆ user_id ┆ created_timestamp   ┆ last_status      ┆ last_status_timest ┆ created_date │\n",
       "│ ---       ┆ ---     ┆ ---                 ┆ ---              ┆ amp                ┆ ---          │\n",
       "│ i32       ┆ i32     ┆ datetime[ns]        ┆ str              ┆ ---                ┆ str          │\n",
       "│           ┆         ┆                     ┆                  ┆ datetime[ns]       ┆              │\n",
       "╞═══════════╪═════════╪═════════════════════╪══════════════════╪════════════════════╪══════════════╡\n",
       "│ 893255    ┆ 869690  ┆ 2025-03-31 19:51:01 ┆ canceled_orders  ┆ 2025-04-05         ┆ 2025-03-31   │\n",
       "│           ┆         ┆                     ┆                  ┆ 17:40:45           ┆              │\n",
       "│ 977450    ┆ 2718650 ┆ 2025-01-25          ┆ delivered_orders ┆ 2025-01-27         ┆ 2025-01-25   │\n",
       "│           ┆         ┆ 05:49:04.380        ┆                  ┆ 16:06:08           ┆              │\n",
       "│ 977450    ┆ 2153530 ┆ 2025-03-13          ┆ canceled_orders  ┆ 2025-03-17         ┆ 2025-03-13   │\n",
       "│           ┆         ┆ 09:36:15.156        ┆                  ┆ 12:38:58           ┆              │\n",
       "│ 1466168   ┆ 1581690 ┆ 2025-02-03          ┆ delivered_orders ┆ 2025-02-07         ┆ 2025-02-03   │\n",
       "│           ┆         ┆ 02:57:41.870        ┆                  ┆ 10:46:29           ┆              │\n",
       "│ 1466168   ┆ 4390650 ┆ 2025-05-31          ┆ canceled_orders  ┆ 2025-06-06         ┆ 2025-05-31   │\n",
       "│           ┆         ┆ 09:43:30.386        ┆                  ┆ 21:22:11           ┆              │\n",
       "│ …         ┆ …       ┆ …                   ┆ …                ┆ …                  ┆ …            │\n",
       "│ 335544115 ┆ 1890160 ┆ 2025-04-20          ┆ canceled_orders  ┆ 2025-04-25         ┆ 2025-04-20   │\n",
       "│           ┆         ┆ 09:08:34.840        ┆                  ┆ 11:39:14           ┆              │\n",
       "│ 335727473 ┆ 4993840 ┆ 2025-05-01          ┆ canceled_orders  ┆ 2025-05-18         ┆ 2025-05-01   │\n",
       "│           ┆         ┆ 22:52:46.870        ┆                  ┆ 01:13:39           ┆              │\n",
       "│ 337880792 ┆ 4103920 ┆ 2025-04-29          ┆ delivered_orders ┆ 2025-05-07         ┆ 2025-04-29   │\n",
       "│           ┆         ┆ 03:58:12.463        ┆                  ┆ 11:24:50           ┆              │\n",
       "│ 338550933 ┆ 3619760 ┆ 2025-01-05          ┆ canceled_orders  ┆ 2025-01-05         ┆ 2025-01-05   │\n",
       "│           ┆         ┆ 16:17:27.833        ┆                  ┆ 17:47:13.110       ┆              │\n",
       "│ 339229595 ┆ 3097840 ┆ 2025-05-21          ┆ delivered_orders ┆ 2025-05-22         ┆ 2025-05-21   │\n",
       "│           ┆         ┆ 14:12:52.820        ┆                  ┆ 17:59:42           ┆              │\n",
       "└───────────┴─────────┴─────────────────────┴──────────────────┴────────────────────┴──────────────┘"
      ]
     },
     "execution_count": 5,
     "metadata": {},
     "output_type": "execute_result"
    }
   ],
   "source": [
    "orders_df"
   ]
  },
  {
   "cell_type": "code",
   "execution_count": 16,
   "id": "98b11432",
   "metadata": {},
   "outputs": [
    {
     "data": {
      "text/html": [
       "<div><style>\n",
       ".dataframe > thead > tr,\n",
       ".dataframe > tbody > tr {\n",
       "  text-align: right;\n",
       "  white-space: pre-wrap;\n",
       "}\n",
       "</style>\n",
       "<small>shape: (7, 2)</small><table border=\"1\" class=\"dataframe\"><thead><tr><th>action_widget</th><th>count</th></tr><tr><td>str</td><td>u32</td></tr></thead><tbody><tr><td>&quot;cart&quot;</td><td>760711</td></tr><tr><td>&quot;favorites&quot;</td><td>428428</td></tr><tr><td>&quot;pdp&quot;</td><td>404660</td></tr><tr><td>&quot;analogs&quot;</td><td>975862</td></tr><tr><td>&quot;recoms&quot;</td><td>1537646</td></tr><tr><td>&quot;search&quot;</td><td>2088249</td></tr><tr><td>&quot;action_widget&quot;</td><td>2203159</td></tr></tbody></table></div>"
      ],
      "text/plain": [
       "shape: (7, 2)\n",
       "┌───────────────┬─────────┐\n",
       "│ action_widget ┆ count   │\n",
       "│ ---           ┆ ---     │\n",
       "│ str           ┆ u32     │\n",
       "╞═══════════════╪═════════╡\n",
       "│ cart          ┆ 760711  │\n",
       "│ favorites     ┆ 428428  │\n",
       "│ pdp           ┆ 404660  │\n",
       "│ analogs       ┆ 975862  │\n",
       "│ recoms        ┆ 1537646 │\n",
       "│ search        ┆ 2088249 │\n",
       "│ action_widget ┆ 2203159 │\n",
       "└───────────────┴─────────┘"
      ]
     },
     "execution_count": 16,
     "metadata": {},
     "output_type": "execute_result"
    }
   ],
   "source": [
    "tracker_df['action_widget'].value_counts()"
   ]
  },
  {
   "cell_type": "code",
   "execution_count": 72,
   "id": "6993b43c",
   "metadata": {},
   "outputs": [
    {
     "ename": "",
     "evalue": "",
     "output_type": "error",
     "traceback": [
      "\u001b[1;31mThe Kernel crashed while executing code in the current cell or a previous cell. \n",
      "\u001b[1;31mPlease review the code in the cell(s) to identify a possible cause of the failure. \n",
      "\u001b[1;31mClick <a href='https://aka.ms/vscodeJupyterKernelCrash'>here</a> for more info. \n",
      "\u001b[1;31mView Jupyter <a href='command:jupyter.viewOutput'>log</a> for further details."
     ]
    }
   ],
   "source": [
    "import polars as pl\n",
    "\n",
    "# 1) Считаем события по каждому action_type для (user_id, item_id)\n",
    "actions_counts = (\n",
    "    tracker_df\n",
    "    .group_by([\"user_id\", \"item_id\", \"action_type\"])\n",
    "    .agg(pl.len().alias(\"cnt\"))\n",
    ")\n",
    "\n",
    "# 2) Разворачиваем action_type в колонки\n",
    "actions_wide = (\n",
    "    actions_counts\n",
    "    .pivot(values=\"cnt\", index=[\"user_id\", \"item_id\"], columns=\"action_type\")\n",
    "    .fill_null(0)\n",
    ")\n",
    "\n",
    "# 3) Оставляем last_status из orders_df для каждой пары (user_id, item_id)\n",
    "if \"last_status_timestamp\" in orders_df.columns:\n",
    "    orders_last = (\n",
    "        orders_df\n",
    "        .group_by([\"user_id\", \"item_id\"])\n",
    "        .agg(\n",
    "            pl.col(\"last_status\")\n",
    "              .sort_by(pl.col(\"last_status_timestamp\"))\n",
    "              .last()\n",
    "              .alias(\"last_status\")\n",
    "        )\n",
    "    )\n",
    "else:\n",
    "    # без метки времени — берём «последнее» встреченное значение\n",
    "    orders_last = (\n",
    "        orders_df\n",
    "        .select([\"user_id\", \"item_id\", \"last_status\"])\n",
    "        .unique(subset=[\"user_id\", \"item_id\"], keep=\"last\")\n",
    "    )\n",
    "\n",
    "# 4) Джойним фичи; last_status остаётся из orders_df\n",
    "features = (\n",
    "    orders_last\n",
    "    .join(actions_wide, on=[\"user_id\", \"item_id\"], how=\"left\")\n",
    "    .fill_null(0)\n",
    ")\n",
    "\n",
    "# features: (user_id, item_id, last_status, <колонки по каждому action_type>)"
   ]
  },
  {
   "cell_type": "code",
   "execution_count": 26,
   "id": "a0fcb7fb",
   "metadata": {},
   "outputs": [
    {
     "name": "stderr",
     "output_type": "stream",
     "text": [
      "/tmp/ipykernel_27328/2912524490.py:19: DataOrientationWarning: Row orientation inferred during DataFrame construction. Explicitly specify the orientation by passing `orient=\"row\"` to silence this warning.\n",
      "  corr_df = pl.DataFrame(rows, schema=[\"feature\", \"pearson\", \"pearson_log1p\"]) \\\n"
     ]
    },
    {
     "data": {
      "text/html": [
       "<div><style>\n",
       ".dataframe > thead > tr,\n",
       ".dataframe > tbody > tr {\n",
       "  text-align: right;\n",
       "  white-space: pre-wrap;\n",
       "}\n",
       "</style>\n",
       "<small>shape: (7, 5)</small><table border=\"1\" class=\"dataframe\"><thead><tr><th>feature</th><th>pearson</th><th>pearson_log1p</th><th>abs_pearson</th><th>abs_pearson_log1p</th></tr><tr><td>str</td><td>f64</td><td>f64</td><td>f64</td><td>f64</td></tr></thead><tbody><tr><td>&quot;remove&quot;</td><td>-0.025632</td><td>-0.03268</td><td>0.025632</td><td>0.03268</td></tr><tr><td>&quot;page_view&quot;</td><td>-0.009269</td><td>-0.007272</td><td>0.009269</td><td>0.007272</td></tr><tr><td>&quot;to_cart&quot;</td><td>-0.007986</td><td>-0.005541</td><td>0.007986</td><td>0.005541</td></tr><tr><td>&quot;review_view&quot;</td><td>-0.003969</td><td>-0.005</td><td>0.003969</td><td>0.005</td></tr><tr><td>&quot;favorite&quot;</td><td>-0.003506</td><td>-0.003045</td><td>0.003506</td><td>0.003045</td></tr><tr><td>&quot;view_description&quot;</td><td>-0.003722</td><td>-0.002637</td><td>0.003722</td><td>0.002637</td></tr><tr><td>&quot;unfavorite&quot;</td><td>-0.001888</td><td>-0.000959</td><td>0.001888</td><td>0.000959</td></tr></tbody></table></div>"
      ],
      "text/plain": [
       "shape: (7, 5)\n",
       "┌──────────────────┬───────────┬───────────────┬─────────────┬───────────────────┐\n",
       "│ feature          ┆ pearson   ┆ pearson_log1p ┆ abs_pearson ┆ abs_pearson_log1p │\n",
       "│ ---              ┆ ---       ┆ ---           ┆ ---         ┆ ---               │\n",
       "│ str              ┆ f64       ┆ f64           ┆ f64         ┆ f64               │\n",
       "╞══════════════════╪═══════════╪═══════════════╪═════════════╪═══════════════════╡\n",
       "│ remove           ┆ -0.025632 ┆ -0.03268      ┆ 0.025632    ┆ 0.03268           │\n",
       "│ page_view        ┆ -0.009269 ┆ -0.007272     ┆ 0.009269    ┆ 0.007272          │\n",
       "│ to_cart          ┆ -0.007986 ┆ -0.005541     ┆ 0.007986    ┆ 0.005541          │\n",
       "│ review_view      ┆ -0.003969 ┆ -0.005        ┆ 0.003969    ┆ 0.005             │\n",
       "│ favorite         ┆ -0.003506 ┆ -0.003045     ┆ 0.003506    ┆ 0.003045          │\n",
       "│ view_description ┆ -0.003722 ┆ -0.002637     ┆ 0.003722    ┆ 0.002637          │\n",
       "│ unfavorite       ┆ -0.001888 ┆ -0.000959     ┆ 0.001888    ┆ 0.000959          │\n",
       "└──────────────────┴───────────┴───────────────┴─────────────┴───────────────────┘"
      ]
     },
     "execution_count": 26,
     "metadata": {},
     "output_type": "execute_result"
    }
   ],
   "source": [
    "\n",
    "# 1) Бинарная цель: delivered_orders → 1, иначе 0\n",
    "features_y = features.with_columns(\n",
    "    (pl.col(\"last_status\") == \"delivered_orders\").cast(pl.Float64).alias(\"y\")\n",
    ")\n",
    "\n",
    "# 2) Список action-колонок\n",
    "exclude = {\"user_id\", \"item_id\", \"last_status\", \"y\"}\n",
    "action_cols = [c for c in features_y.columns if c not in exclude]\n",
    "\n",
    "# 3) Корреляция (Пирсон) y vs счётчики действий\n",
    "rows = []\n",
    "for c in action_cols:\n",
    "    corr_raw = features_y.select(pl.corr(\"y\", c)).item()\n",
    "    # альтернатива со сглаживанием масштаба: log1p\n",
    "    corr_log = features_y.select(pl.corr(\"y\", pl.col(c).log1p())).item()\n",
    "    rows.append((c, float(corr_raw if corr_raw is not None else np.nan),\n",
    "                    float(corr_log if corr_log is not None else np.nan)))\n",
    "\n",
    "corr_df = pl.DataFrame(rows, schema=[\"feature\", \"pearson\", \"pearson_log1p\"]) \\\n",
    "           .with_columns([\n",
    "               pl.col(\"pearson\").abs().alias(\"abs_pearson\"),\n",
    "               pl.col(\"pearson_log1p\").abs().alias(\"abs_pearson_log1p\"),\n",
    "           ]) \\\n",
    "           .sort([\"abs_pearson_log1p\", \"abs_pearson\"], descending=[True, True])\n",
    "\n",
    "# corr_df: таблица корреляций (чем больше по модулю, тем сильнее связь)\n",
    "corr_df"
   ]
  },
  {
   "cell_type": "code",
   "execution_count": 54,
   "id": "898e4270",
   "metadata": {},
   "outputs": [],
   "source": [
    "features_y = features.with_columns(\n",
    "    (pl.col(\"last_status\") == \"delivered_orders\").cast(pl.Float64).alias(\"y\")\n",
    ")\n",
    "features_y = features_y.with_columns(\n",
    "    (pl.col(\"last_status\") == \"canceled_orders\").cast(pl.Float64).alias(\"z\")\n",
    ")"
   ]
  },
  {
   "cell_type": "code",
   "execution_count": 55,
   "id": "d4faac1c",
   "metadata": {},
   "outputs": [
    {
     "data": {
      "text/html": [
       "<div><style>\n",
       ".dataframe > thead > tr,\n",
       ".dataframe > tbody > tr {\n",
       "  text-align: right;\n",
       "  white-space: pre-wrap;\n",
       "}\n",
       "</style>\n",
       "<small>shape: (17_804_110, 12)</small><table border=\"1\" class=\"dataframe\"><thead><tr><th>user_id</th><th>item_id</th><th>last_status</th><th>page_view</th><th>view_description</th><th>remove</th><th>review_view</th><th>unfavorite</th><th>to_cart</th><th>favorite</th><th>y</th><th>z</th></tr><tr><td>i32</td><td>i32</td><td>str</td><td>u32</td><td>u32</td><td>u32</td><td>u32</td><td>u32</td><td>u32</td><td>u32</td><td>f64</td><td>f64</td></tr></thead><tbody><tr><td>4995431</td><td>138024747</td><td>&quot;canceled_orders&quot;</td><td>0</td><td>0</td><td>0</td><td>0</td><td>0</td><td>0</td><td>0</td><td>0.0</td><td>1.0</td></tr><tr><td>2232920</td><td>337540870</td><td>&quot;canceled_orders&quot;</td><td>0</td><td>0</td><td>0</td><td>0</td><td>0</td><td>0</td><td>0</td><td>0.0</td><td>1.0</td></tr><tr><td>731010</td><td>222042910</td><td>&quot;delivered_orders&quot;</td><td>0</td><td>0</td><td>0</td><td>0</td><td>0</td><td>0</td><td>0</td><td>1.0</td><td>0.0</td></tr><tr><td>3604040</td><td>46726613</td><td>&quot;proccesed_orders&quot;</td><td>0</td><td>0</td><td>0</td><td>0</td><td>0</td><td>0</td><td>0</td><td>0.0</td><td>0.0</td></tr><tr><td>4822050</td><td>109051514</td><td>&quot;delivered_orders&quot;</td><td>0</td><td>0</td><td>0</td><td>0</td><td>0</td><td>0</td><td>0</td><td>1.0</td><td>0.0</td></tr><tr><td>&hellip;</td><td>&hellip;</td><td>&hellip;</td><td>&hellip;</td><td>&hellip;</td><td>&hellip;</td><td>&hellip;</td><td>&hellip;</td><td>&hellip;</td><td>&hellip;</td><td>&hellip;</td><td>&hellip;</td></tr><tr><td>2181150</td><td>5654114</td><td>&quot;delivered_orders&quot;</td><td>0</td><td>0</td><td>0</td><td>0</td><td>0</td><td>0</td><td>0</td><td>1.0</td><td>0.0</td></tr><tr><td>3879691</td><td>299865416</td><td>&quot;delivered_orders&quot;</td><td>0</td><td>0</td><td>0</td><td>0</td><td>0</td><td>0</td><td>0</td><td>1.0</td><td>0.0</td></tr><tr><td>3046310</td><td>332309667</td><td>&quot;canceled_orders&quot;</td><td>0</td><td>0</td><td>0</td><td>0</td><td>0</td><td>0</td><td>0</td><td>0.0</td><td>1.0</td></tr><tr><td>421691</td><td>86717244</td><td>&quot;delivered_orders&quot;</td><td>0</td><td>0</td><td>0</td><td>0</td><td>0</td><td>0</td><td>0</td><td>1.0</td><td>0.0</td></tr><tr><td>1536470</td><td>84884007</td><td>&quot;delivered_orders&quot;</td><td>2</td><td>0</td><td>0</td><td>0</td><td>0</td><td>1</td><td>0</td><td>1.0</td><td>0.0</td></tr></tbody></table></div>"
      ],
      "text/plain": [
       "shape: (17_804_110, 12)\n",
       "┌─────────┬───────────┬──────────────────┬───────────┬───┬─────────┬──────────┬─────┬─────┐\n",
       "│ user_id ┆ item_id   ┆ last_status      ┆ page_view ┆ … ┆ to_cart ┆ favorite ┆ y   ┆ z   │\n",
       "│ ---     ┆ ---       ┆ ---              ┆ ---       ┆   ┆ ---     ┆ ---      ┆ --- ┆ --- │\n",
       "│ i32     ┆ i32       ┆ str              ┆ u32       ┆   ┆ u32     ┆ u32      ┆ f64 ┆ f64 │\n",
       "╞═════════╪═══════════╪══════════════════╪═══════════╪═══╪═════════╪══════════╪═════╪═════╡\n",
       "│ 4995431 ┆ 138024747 ┆ canceled_orders  ┆ 0         ┆ … ┆ 0       ┆ 0        ┆ 0.0 ┆ 1.0 │\n",
       "│ 2232920 ┆ 337540870 ┆ canceled_orders  ┆ 0         ┆ … ┆ 0       ┆ 0        ┆ 0.0 ┆ 1.0 │\n",
       "│ 731010  ┆ 222042910 ┆ delivered_orders ┆ 0         ┆ … ┆ 0       ┆ 0        ┆ 1.0 ┆ 0.0 │\n",
       "│ 3604040 ┆ 46726613  ┆ proccesed_orders ┆ 0         ┆ … ┆ 0       ┆ 0        ┆ 0.0 ┆ 0.0 │\n",
       "│ 4822050 ┆ 109051514 ┆ delivered_orders ┆ 0         ┆ … ┆ 0       ┆ 0        ┆ 1.0 ┆ 0.0 │\n",
       "│ …       ┆ …         ┆ …                ┆ …         ┆ … ┆ …       ┆ …        ┆ …   ┆ …   │\n",
       "│ 2181150 ┆ 5654114   ┆ delivered_orders ┆ 0         ┆ … ┆ 0       ┆ 0        ┆ 1.0 ┆ 0.0 │\n",
       "│ 3879691 ┆ 299865416 ┆ delivered_orders ┆ 0         ┆ … ┆ 0       ┆ 0        ┆ 1.0 ┆ 0.0 │\n",
       "│ 3046310 ┆ 332309667 ┆ canceled_orders  ┆ 0         ┆ … ┆ 0       ┆ 0        ┆ 0.0 ┆ 1.0 │\n",
       "│ 421691  ┆ 86717244  ┆ delivered_orders ┆ 0         ┆ … ┆ 0       ┆ 0        ┆ 1.0 ┆ 0.0 │\n",
       "│ 1536470 ┆ 84884007  ┆ delivered_orders ┆ 2         ┆ … ┆ 1       ┆ 0        ┆ 1.0 ┆ 0.0 │\n",
       "└─────────┴───────────┴──────────────────┴───────────┴───┴─────────┴──────────┴─────┴─────┘"
      ]
     },
     "execution_count": 55,
     "metadata": {},
     "output_type": "execute_result"
    }
   ],
   "source": [
    "features_y"
   ]
  },
  {
   "cell_type": "code",
   "execution_count": 56,
   "id": "bec7e1af",
   "metadata": {},
   "outputs": [
    {
     "data": {
      "text/plain": [
       "(0.526856975576436, 0.42487324711019675)"
      ]
     },
     "execution_count": 56,
     "metadata": {},
     "output_type": "execute_result"
    }
   ],
   "source": [
    "features_y.filter(features_y['favorite'] > 0)['y'].sum() / (features_y['favorite'] > 0).sum(), features_y.filter(features_y['favorite'] > 0)['z'].sum() / (features_y['favorite'] > 0).sum()"
   ]
  },
  {
   "cell_type": "code",
   "execution_count": 68,
   "id": "34b0c991",
   "metadata": {},
   "outputs": [
    {
     "data": {
      "text/plain": [
       "4557380"
      ]
     },
     "execution_count": 68,
     "metadata": {},
     "output_type": "execute_result"
    }
   ],
   "source": [
    "comdined.sum()"
   ]
  },
  {
   "cell_type": "code",
   "execution_count": 67,
   "id": "55d829af",
   "metadata": {},
   "outputs": [
    {
     "data": {
      "text/plain": [
       "(0.5307370846226288, 0.41789630220445506)"
      ]
     },
     "execution_count": 67,
     "metadata": {},
     "output_type": "execute_result"
    }
   ],
   "source": [
    "comdined = (features_y['favorite'] | features_y['to_cart'] | features_y['review_view'] | features_y['view_description'])\n",
    "features_y.filter(comdined > 0)['y'].sum() / (comdined > 0).sum(), features_y.filter(comdined > 0)['z'].sum() / (comdined > 0).sum()"
   ]
  },
  {
   "cell_type": "code",
   "execution_count": 57,
   "id": "a487e7b4",
   "metadata": {},
   "outputs": [
    {
     "data": {
      "text/plain": [
       "(0.5309422000301655, 0.4178986885656955)"
      ]
     },
     "execution_count": 57,
     "metadata": {},
     "output_type": "execute_result"
    }
   ],
   "source": [
    "features_y.filter(features_y['to_cart'] > 0)['y'].sum() / (features_y['to_cart'] > 0).sum(), features_y.filter(features_y['to_cart'] > 0)['z'].sum() / (features_y['to_cart'] > 0).sum()"
   ]
  },
  {
   "cell_type": "markdown",
   "id": "61f83373",
   "metadata": {},
   "source": []
  },
  {
   "cell_type": "code",
   "execution_count": 58,
   "id": "3ba0860f",
   "metadata": {},
   "outputs": [
    {
     "data": {
      "text/plain": [
       "(0.5227613334306682, 0.4314798194724163)"
      ]
     },
     "execution_count": 58,
     "metadata": {},
     "output_type": "execute_result"
    }
   ],
   "source": [
    "features_y.filter(features_y['review_view'] > 0)['y'].sum() / (features_y['review_view'] > 0).sum(), features_y.filter(features_y['review_view'] > 0)['z'].sum() / (features_y['review_view'] > 0).sum()"
   ]
  },
  {
   "cell_type": "code",
   "execution_count": 59,
   "id": "a8ab922b",
   "metadata": {},
   "outputs": [
    {
     "data": {
      "text/plain": [
       "(0.5357134262074409, 0.4165825686969441)"
      ]
     },
     "execution_count": 59,
     "metadata": {},
     "output_type": "execute_result"
    }
   ],
   "source": [
    "features_y.filter(features_y['view_description'] > 0)['y'].sum() / (features_y['view_description'] > 0).sum(), features_y.filter(features_y['view_description'] > 0)['z'].sum() / (features_y['view_description'] > 0).sum()"
   ]
  },
  {
   "cell_type": "code",
   "execution_count": 60,
   "id": "44a53790",
   "metadata": {},
   "outputs": [
    {
     "data": {
      "text/plain": [
       "(0.36620239537074417, 0.5919459023011707)"
      ]
     },
     "execution_count": 60,
     "metadata": {},
     "output_type": "execute_result"
    }
   ],
   "source": [
    "features_y.filter(features_y['remove'] > 0)['y'].sum() / (features_y['remove'] > 0).sum(), features_y.filter(features_y['remove'] > 0)['z'].sum() / (features_y['remove'] > 0).sum()"
   ]
  },
  {
   "cell_type": "code",
   "execution_count": 61,
   "id": "9b87316f",
   "metadata": {},
   "outputs": [
    {
     "data": {
      "text/plain": [
       "(0.5359989686956148, 0.4354324674673599)"
      ]
     },
     "execution_count": 61,
     "metadata": {},
     "output_type": "execute_result"
    }
   ],
   "source": [
    "features_y.filter(features_y['unfavorite'] > 0)['y'].sum() / (features_y['unfavorite'] > 0).sum(), features_y.filter(features_y['unfavorite'] > 0)['z'].sum() / (features_y['unfavorite'] > 0).sum()"
   ]
  },
  {
   "cell_type": "code",
   "execution_count": 8,
   "id": "fb873366",
   "metadata": {},
   "outputs": [],
   "source": [
    "tracker_df = tracker_df.with_columns(pl.col(\"timestamp\").dt.date().alias(\"date_t\"))\n",
    "orders_df = orders_df.with_columns(pl.col(\"last_status_timestamp\").dt.date().alias(\"date_o\"))\n",
    "result = tracker_df.join(\n",
    "    orders_df.select([\"user_id\", \"item_id\", \"last_status\", \"date_o\"]),\n",
    "    left_on=[\"user_id\", \"item_id\", \"date_t\"],\n",
    "    right_on=[\"user_id\", \"item_id\", \"date_o\"],\n",
    "    how=\"left\",\n",
    ")\n"
   ]
  },
  {
   "cell_type": "code",
   "execution_count": 16,
   "id": "3c6171ce",
   "metadata": {},
   "outputs": [],
   "source": [
    "import polars as pl\n",
    "import numpy as np\n",
    "\n",
    "def categorical_association_laststatus_actiontype(result: pl.DataFrame):\n",
    "    # 1) contingency-таблица counts(action_type x last_status)\n",
    "    counts = (\n",
    "        result\n",
    "        .select([\"action_type\", \"last_status\"])\n",
    "        .group_by([\"action_type\", \"last_status\"])\n",
    "        .agg(pl.len().alias(\"cnt\"))\n",
    "    )\n",
    "    cont = (\n",
    "        counts\n",
    "        .pivot(values=\"cnt\", index=\"action_type\", columns=\"last_status\")  # columns -> on в новых версиях\n",
    "        .fill_null(0)\n",
    "    )\n",
    "\n",
    "    row_labels = cont.get_column(\"action_type\").to_list()\n",
    "    col_labels = [c for c in cont.columns if c != \"action_type\"]\n",
    "\n",
    "    O = cont.select(col_labels).to_numpy().astype(float)  # наблюдаемые частоты\n",
    "    n = O.sum()\n",
    "    if n <= 0:\n",
    "        raise ValueError(\"Empty contingency table\")\n",
    "\n",
    "    # 2) ожидаемые частоты и резидулы\n",
    "    row_sums = O.sum(axis=1, keepdims=True)\n",
    "    col_sums = O.sum(axis=0, keepdims=True)\n",
    "    E = (row_sums @ col_sums) / n\n",
    "\n",
    "    eps = 1e-12\n",
    "    residuals = (O - E) / np.sqrt(E + eps)              # Pearson residuals\n",
    "    chi2 = ((O - E) ** 2 / (E + eps)).sum()\n",
    "\n",
    "    r, c = O.shape\n",
    "    denom = max(1, min(r - 1, c - 1))                  # защита от деления на 0\n",
    "    cramers_v = float(np.sqrt(chi2 / (n * denom)))     # Cramér's V\n",
    "\n",
    "    # 3) PMI (лог-лифт)\n",
    "    P = O / n\n",
    "    Pr = row_sums / n\n",
    "    Pc = col_sums / n\n",
    "    PMI = np.log((P + eps) / (Pr @ Pc + eps))\n",
    "\n",
    "    # 4) Упаковка в Polars для удобного просмотра\n",
    "    residuals_df = pl.DataFrame(\n",
    "        {\"action_type\": row_labels} | {\n",
    "            col_labels[j]: residuals[:, j] for j in range(len(col_labels))\n",
    "        }\n",
    "    )\n",
    "    pmi_df = pl.DataFrame(\n",
    "        {\"action_type\": row_labels} | {\n",
    "            col_labels[j]: PMI[:, j] for j in range(len(col_labels))\n",
    "        }\n",
    "    )\n",
    "    counts_df = cont  # уже готова\n",
    "\n",
    "    return {\n",
    "        \"counts\": counts_df,            # contingency-таблица\n",
    "        \"residuals\": residuals_df,      # поячейковая связь (плюс/минус и сила)\n",
    "        \"pmi\": pmi_df,                  # лог-лифт\n",
    "        \"cramers_v\": cramers_v,         # общая сила ассоциации\n",
    "    }\n",
    "\n",
    "# Пример:\n",
    "# \n",
    "# display(out[\"counts\"])\n",
    "# display(out[\"residuals\"])\n",
    "# display(out[\"pmi\"])\n",
    "# print(\"Cramér's V:\", out[\"cramers_v\"])"
   ]
  },
  {
   "cell_type": "code",
   "execution_count": 17,
   "id": "7a1a25ee",
   "metadata": {},
   "outputs": [
    {
     "name": "stderr",
     "output_type": "stream",
     "text": [
      "/tmp/ipykernel_27328/1379047290.py:14: DeprecationWarning: the argument `columns` for `DataFrame.pivot` is deprecated. It was renamed to `on` in version 1.0.0.\n",
      "  .pivot(values=\"cnt\", index=\"action_type\", columns=\"last_status\")  # columns -> on в новых версиях\n"
     ]
    }
   ],
   "source": [
    "out = categorical_association_laststatus_actiontype(result)"
   ]
  },
  {
   "cell_type": "code",
   "execution_count": 18,
   "id": "1e88157e",
   "metadata": {},
   "outputs": [
    {
     "data": {
      "text/html": [
       "<div><style>\n",
       ".dataframe > thead > tr,\n",
       ".dataframe > tbody > tr {\n",
       "  text-align: right;\n",
       "  white-space: pre-wrap;\n",
       "}\n",
       "</style>\n",
       "<small>shape: (7, 5)</small><table border=\"1\" class=\"dataframe\"><thead><tr><th>action_type</th><th>delivered_orders</th><th>null</th><th>canceled_orders</th><th>proccesed_orders</th></tr><tr><td>str</td><td>u32</td><td>u32</td><td>u32</td><td>u32</td></tr></thead><tbody><tr><td>&quot;unfavorite&quot;</td><td>7024</td><td>1954253</td><td>5623</td><td>1651</td></tr><tr><td>&quot;favorite&quot;</td><td>2014</td><td>5138411</td><td>7575</td><td>3397</td></tr><tr><td>&quot;view_description&quot;</td><td>88690</td><td>21782488</td><td>80892</td><td>40777</td></tr><tr><td>&quot;remove&quot;</td><td>3733</td><td>3661108</td><td>24240</td><td>2507</td></tr><tr><td>&quot;review_view&quot;</td><td>41708</td><td>7493581</td><td>33323</td><td>16600</td></tr><tr><td>&quot;page_view&quot;</td><td>394272</td><td>115966039</td><td>340336</td><td>165855</td></tr><tr><td>&quot;to_cart&quot;</td><td>7184</td><td>5955996</td><td>57618</td><td>39550</td></tr></tbody></table></div>"
      ],
      "text/plain": [
       "shape: (7, 5)\n",
       "┌──────────────────┬──────────────────┬───────────┬─────────────────┬──────────────────┐\n",
       "│ action_type      ┆ delivered_orders ┆ null      ┆ canceled_orders ┆ proccesed_orders │\n",
       "│ ---              ┆ ---              ┆ ---       ┆ ---             ┆ ---              │\n",
       "│ str              ┆ u32              ┆ u32       ┆ u32             ┆ u32              │\n",
       "╞══════════════════╪══════════════════╪═══════════╪═════════════════╪══════════════════╡\n",
       "│ unfavorite       ┆ 7024             ┆ 1954253   ┆ 5623            ┆ 1651             │\n",
       "│ favorite         ┆ 2014             ┆ 5138411   ┆ 7575            ┆ 3397             │\n",
       "│ view_description ┆ 88690            ┆ 21782488  ┆ 80892           ┆ 40777            │\n",
       "│ remove           ┆ 3733             ┆ 3661108   ┆ 24240           ┆ 2507             │\n",
       "│ review_view      ┆ 41708            ┆ 7493581   ┆ 33323           ┆ 16600            │\n",
       "│ page_view        ┆ 394272           ┆ 115966039 ┆ 340336          ┆ 165855           │\n",
       "│ to_cart          ┆ 7184             ┆ 5955996   ┆ 57618           ┆ 39550            │\n",
       "└──────────────────┴──────────────────┴───────────┴─────────────────┴──────────────────┘"
      ]
     },
     "metadata": {},
     "output_type": "display_data"
    },
    {
     "data": {
      "text/html": [
       "<div><style>\n",
       ".dataframe > thead > tr,\n",
       ".dataframe > tbody > tr {\n",
       "  text-align: right;\n",
       "  white-space: pre-wrap;\n",
       "}\n",
       "</style>\n",
       "<small>shape: (7, 5)</small><table border=\"1\" class=\"dataframe\"><thead><tr><th>action_type</th><th>delivered_orders</th><th>null</th><th>canceled_orders</th><th>proccesed_orders</th></tr><tr><td>str</td><td>f64</td><td>f64</td><td>f64</td><td>f64</td></tr></thead><tbody><tr><td>&quot;unfavorite&quot;</td><td>5.66888</td><td>1.538795</td><td>-12.307551</td><td>-28.161061</td></tr><tr><td>&quot;favorite&quot;</td><td>-115.701818</td><td>13.298051</td><td>-74.134079</td><td>-55.555142</td></tr><tr><td>&quot;view_description&quot;</td><td>56.675405</td><td>-5.69605</td><td>25.288251</td><td>22.9158</td></tr><tr><td>&quot;remove&quot;</td><td>-77.308586</td><td>0.190548</td><td>106.018074</td><td>-46.099961</td></tr><tr><td>&quot;review_view&quot;</td><td>103.197508</td><td>-10.30183</td><td>48.798741</td><td>36.092285</td></tr><tr><td>&quot;page_view&quot;</td><td>7.284413</td><td>7.059736</td><td>-84.43815</td><td>-62.737288</td></tr><tr><td>&quot;to_cart&quot;</td><td>-91.627696</td><td>-21.911561</td><td>260.647467</td><td>294.717043</td></tr></tbody></table></div>"
      ],
      "text/plain": [
       "shape: (7, 5)\n",
       "┌──────────────────┬──────────────────┬────────────┬─────────────────┬──────────────────┐\n",
       "│ action_type      ┆ delivered_orders ┆ null       ┆ canceled_orders ┆ proccesed_orders │\n",
       "│ ---              ┆ ---              ┆ ---        ┆ ---             ┆ ---              │\n",
       "│ str              ┆ f64              ┆ f64        ┆ f64             ┆ f64              │\n",
       "╞══════════════════╪══════════════════╪════════════╪═════════════════╪══════════════════╡\n",
       "│ unfavorite       ┆ 5.66888          ┆ 1.538795   ┆ -12.307551      ┆ -28.161061       │\n",
       "│ favorite         ┆ -115.701818      ┆ 13.298051  ┆ -74.134079      ┆ -55.555142       │\n",
       "│ view_description ┆ 56.675405        ┆ -5.69605   ┆ 25.288251       ┆ 22.9158          │\n",
       "│ remove           ┆ -77.308586       ┆ 0.190548   ┆ 106.018074      ┆ -46.099961       │\n",
       "│ review_view      ┆ 103.197508       ┆ -10.30183  ┆ 48.798741       ┆ 36.092285        │\n",
       "│ page_view        ┆ 7.284413         ┆ 7.059736   ┆ -84.43815       ┆ -62.737288       │\n",
       "│ to_cart          ┆ -91.627696       ┆ -21.911561 ┆ 260.647467      ┆ 294.717043       │\n",
       "└──────────────────┴──────────────────┴────────────┴─────────────────┴──────────────────┘"
      ]
     },
     "metadata": {},
     "output_type": "display_data"
    },
    {
     "data": {
      "text/html": [
       "<div><style>\n",
       ".dataframe > thead > tr,\n",
       ".dataframe > tbody > tr {\n",
       "  text-align: right;\n",
       "  white-space: pre-wrap;\n",
       "}\n",
       "</style>\n",
       "<small>shape: (7, 5)</small><table border=\"1\" class=\"dataframe\"><thead><tr><th>action_type</th><th>delivered_orders</th><th>null</th><th>canceled_orders</th><th>proccesed_orders</th></tr><tr><td>str</td><td>f64</td><td>f64</td><td>f64</td><td>f64</td></tr></thead><tbody><tr><td>&quot;unfavorite&quot;</td><td>0.067627</td><td>0.001101</td><td>-0.163946</td><td>-0.679896</td></tr><tr><td>&quot;favorite&quot;</td><td>-2.143553</td><td>0.005866</td><td>-0.827928</td><td>-0.920355</td></tr><tr><td>&quot;view_description&quot;</td><td>0.190022</td><td>-0.00122</td><td>0.088884</td><td>0.113421</td></tr><tr><td>&quot;remove&quot;</td><td>-1.193252</td><td>0.0001</td><td>0.668434</td><td>-0.890949</td></tr><tr><td>&quot;review_view&quot;</td><td>0.500085</td><td>-0.003763</td><td>0.266534</td><td>0.279223</td></tr><tr><td>&quot;page_view&quot;</td><td>0.011601</td><td>0.000656</td><td>-0.144613</td><td>-0.153898</td></tr><tr><td>&quot;to_cart&quot;</td><td>-1.034319</td><td>-0.008978</td><td>1.038554</td><td>1.371819</td></tr></tbody></table></div>"
      ],
      "text/plain": [
       "shape: (7, 5)\n",
       "┌──────────────────┬──────────────────┬───────────┬─────────────────┬──────────────────┐\n",
       "│ action_type      ┆ delivered_orders ┆ null      ┆ canceled_orders ┆ proccesed_orders │\n",
       "│ ---              ┆ ---              ┆ ---       ┆ ---             ┆ ---              │\n",
       "│ str              ┆ f64              ┆ f64       ┆ f64             ┆ f64              │\n",
       "╞══════════════════╪══════════════════╪═══════════╪═════════════════╪══════════════════╡\n",
       "│ unfavorite       ┆ 0.067627         ┆ 0.001101  ┆ -0.163946       ┆ -0.679896        │\n",
       "│ favorite         ┆ -2.143553        ┆ 0.005866  ┆ -0.827928       ┆ -0.920355        │\n",
       "│ view_description ┆ 0.190022         ┆ -0.00122  ┆ 0.088884        ┆ 0.113421         │\n",
       "│ remove           ┆ -1.193252        ┆ 0.0001    ┆ 0.668434        ┆ -0.890949        │\n",
       "│ review_view      ┆ 0.500085         ┆ -0.003763 ┆ 0.266534        ┆ 0.279223         │\n",
       "│ page_view        ┆ 0.011601         ┆ 0.000656  ┆ -0.144613       ┆ -0.153898        │\n",
       "│ to_cart          ┆ -1.034319        ┆ -0.008978 ┆ 1.038554        ┆ 1.371819         │\n",
       "└──────────────────┴──────────────────┴───────────┴─────────────────┴──────────────────┘"
      ]
     },
     "metadata": {},
     "output_type": "display_data"
    },
    {
     "name": "stdout",
     "output_type": "stream",
     "text": [
      "Cramér's V: 0.02195448823805675\n"
     ]
    }
   ],
   "source": [
    "display(out[\"counts\"])\n",
    "display(out[\"residuals\"])\n",
    "display(out[\"pmi\"])\n",
    "print(\"Cramér's V:\", out[\"cramers_v\"])"
   ]
  },
  {
   "cell_type": "code",
   "execution_count": 10,
   "id": "d82a7e97",
   "metadata": {},
   "outputs": [
    {
     "data": {
      "text/plain": [
       "['item_id',\n",
       " 'user_id',\n",
       " 'timestamp',\n",
       " 'action_type',\n",
       " 'action_widget',\n",
       " 'date',\n",
       " 'date_t',\n",
       " 'last_status']"
      ]
     },
     "execution_count": 10,
     "metadata": {},
     "output_type": "execute_result"
    }
   ],
   "source": [
    "result.columns"
   ]
  },
  {
   "cell_type": "code",
   "execution_count": 3,
   "id": "a1036301",
   "metadata": {},
   "outputs": [
    {
     "name": "stderr",
     "output_type": "stream",
     "text": [
      "Загрузка взаимодействий: 100%|██████████| 200/200 [00:46<00:00,  4.33it/s]"
     ]
    },
    {
     "name": "stdout",
     "output_type": "stream",
     "text": [
      "Загружено взаимодействий: 2,363\n"
     ]
    },
    {
     "name": "stderr",
     "output_type": "stream",
     "text": [
      "\n"
     ]
    }
   ],
   "source": [
    "trash_data = []\n",
    "for file_path in tqdm(tracker_files, desc=\"Загрузка взаимодействий\"):\n",
    "    df = pl.read_parquet(file_path)\n",
    "    trash_df = df.filter(pl.col(\"timestamp\").dt.epoch(\"s\") > 1751414398)\n",
    "    trash_data.append(trash_df)\n",
    "total_trash_df = pl.concat(trash_data)\n",
    "print(f\"Загружено взаимодействий: {len(total_trash_df):,}\")"
   ]
  },
  {
   "cell_type": "code",
   "execution_count": null,
   "id": "2526f27f",
   "metadata": {},
   "outputs": [],
   "source": []
  },
  {
   "cell_type": "code",
   "execution_count": 22,
   "id": "6d652f3a",
   "metadata": {},
   "outputs": [
    {
     "data": {
      "text/html": [
       "<div><style>\n",
       ".dataframe > thead > tr,\n",
       ".dataframe > tbody > tr {\n",
       "  text-align: right;\n",
       "  white-space: pre-wrap;\n",
       "}\n",
       "</style>\n",
       "<small>shape: (7_012, 3)</small><table border=\"1\" class=\"dataframe\"><thead><tr><th>catalogid</th><th>catalogpath</th><th>ids</th></tr><tr><td>i64</td><td>list[struct[3]]</td><td>list[i64]</td></tr></thead><tbody><tr><td>15500</td><td>[{15500,&quot;Электроника&quot;,&quot;Электроника&quot;}, {-1,&quot;Общий каталог&quot;,&quot;Общий каталог&quot;}]</td><td>[15500, -1]</td></tr><tr><td>15501</td><td>[{15501,&quot;Телефоны и смарт-часы&quot;,&quot;Телефоны и смарт-часы&quot;}, {15500,&quot;Электроника&quot;,&quot;Электроника&quot;}, {-1,&quot;Общий каталог&quot;,&quot;Общий каталог&quot;}]</td><td>[15501, 15500, -1]</td></tr><tr><td>15502</td><td>[{15502,&quot;Смартфоны&quot;,&quot;Смартфоны&quot;}, {15501,&quot;Телефоны и смарт-часы&quot;,&quot;Телефоны и смарт-часы&quot;}, … {-1,&quot;Общий каталог&quot;,&quot;Общий каталог&quot;}]</td><td>[15502, 15501, … -1]</td></tr><tr><td>15511</td><td>[{15511,&quot;Аксессуары для смартфонов и телефонов&quot;,&quot;Аксессуары для смартфонов и телефонов&quot;}, {15501,&quot;Телефоны и смарт-часы&quot;,&quot;Телефоны и смарт-часы&quot;}, … {-1,&quot;Общий каталог&quot;,&quot;Общий каталог&quot;}]</td><td>[15511, 15501, … -1]</td></tr><tr><td>15892</td><td>[{15892,&quot;Чехлы&quot;,&quot;Чехлы для смартфонов&quot;}, {15511,&quot;Аксессуары для смартфонов и телефонов&quot;,&quot;Аксессуары для смартфонов и телефонов&quot;}, … {-1,&quot;Общий каталог&quot;,&quot;Общий каталог&quot;}]</td><td>[15892, 15511, … -1]</td></tr><tr><td>&hellip;</td><td>&hellip;</td><td>&hellip;</td></tr><tr><td>39405</td><td>[{39405,&quot;Екатеринбург&quot;,&quot;Отели Екатеринбурга&quot;}, {55455,&quot;Отели&quot;,&quot;Отели&quot;}, … {-1,&quot;Общий каталог&quot;,&quot;Общий каталог&quot;}]</td><td>[39405, 55455, … -1]</td></tr><tr><td>39406</td><td>[{39406,&quot;Нижний Новгород&quot;,&quot;Отели Нижнего Новгорода&quot;}, {55455,&quot;Отели&quot;,&quot;Отели&quot;}, … {-1,&quot;Общий каталог&quot;,&quot;Общий каталог&quot;}]</td><td>[39406, 55455, … -1]</td></tr><tr><td>39398</td><td>[{39398,&quot;Экскурсии&quot;,&quot;Экскурсии&quot;}, {55055,&quot;Билеты, отели, туры&quot;,&quot;Билеты, отели, туры&quot;}, {-1,&quot;Общий каталог&quot;,&quot;Общий каталог&quot;}]</td><td>[39398, 55055, -1]</td></tr><tr><td>39792</td><td>[{39792,&quot;Туры&quot;,&quot;Туры&quot;}, {55055,&quot;Билеты, отели, туры&quot;,&quot;Билеты, отели, туры&quot;}, {-1,&quot;Общий каталог&quot;,&quot;Общий каталог&quot;}]</td><td>[39792, 55055, -1]</td></tr><tr><td>77777</td><td>[{77777,&quot;Ozon Объявления&quot;,&quot;Ozon Объявления&quot;}, {-1,&quot;Общий каталог&quot;,&quot;Общий каталог&quot;}]</td><td>[77777, -1]</td></tr></tbody></table></div>"
      ],
      "text/plain": [
       "shape: (7_012, 3)\n",
       "┌───────────┬─────────────────────────────────┬──────────────────────┐\n",
       "│ catalogid ┆ catalogpath                     ┆ ids                  │\n",
       "│ ---       ┆ ---                             ┆ ---                  │\n",
       "│ i64       ┆ list[struct[3]]                 ┆ list[i64]            │\n",
       "╞═══════════╪═════════════════════════════════╪══════════════════════╡\n",
       "│ 15500     ┆ [{15500,\"Электроника\",\"Электро… ┆ [15500, -1]          │\n",
       "│ 15501     ┆ [{15501,\"Телефоны и смарт-часы… ┆ [15501, 15500, -1]   │\n",
       "│ 15502     ┆ [{15502,\"Смартфоны\",\"Смартфоны… ┆ [15502, 15501, … -1] │\n",
       "│ 15511     ┆ [{15511,\"Аксессуары для смартф… ┆ [15511, 15501, … -1] │\n",
       "│ 15892     ┆ [{15892,\"Чехлы\",\"Чехлы для сма… ┆ [15892, 15511, … -1] │\n",
       "│ …         ┆ …                               ┆ …                    │\n",
       "│ 39405     ┆ [{39405,\"Екатеринбург\",\"Отели … ┆ [39405, 55455, … -1] │\n",
       "│ 39406     ┆ [{39406,\"Нижний Новгород\",\"Оте… ┆ [39406, 55455, … -1] │\n",
       "│ 39398     ┆ [{39398,\"Экскурсии\",\"Экскурсии… ┆ [39398, 55055, -1]   │\n",
       "│ 39792     ┆ [{39792,\"Туры\",\"Туры\"}, {55055… ┆ [39792, 55055, -1]   │\n",
       "│ 77777     ┆ [{77777,\"Ozon Объявления\",\"Ozo… ┆ [77777, -1]          │\n",
       "└───────────┴─────────────────────────────────┴──────────────────────┘"
      ]
     },
     "execution_count": 22,
     "metadata": {},
     "output_type": "execute_result"
    }
   ],
   "source": [
    "categories_df"
   ]
  },
  {
   "cell_type": "code",
   "execution_count": null,
   "id": "cee58cf5",
   "metadata": {},
   "outputs": [
    {
     "data": {
      "text/html": [
       "<div><style>\n",
       ".dataframe > thead > tr,\n",
       ".dataframe > tbody > tr {\n",
       "  text-align: right;\n",
       "  white-space: pre-wrap;\n",
       "}\n",
       "</style>\n",
       "<small>shape: (164_241_122, 6)</small><table border=\"1\" class=\"dataframe\"><thead><tr><th>item_id</th><th>user_id</th><th>timestamp</th><th>action_type</th><th>action_widget</th><th>date</th></tr><tr><td>i32</td><td>i32</td><td>datetime[ns]</td><td>str</td><td>str</td><td>str</td></tr></thead><tbody><tr><td>30760</td><td>1889010</td><td>2025-01-10 20:47:00</td><td>&quot;page_view&quot;</td><td>&quot;catalog.searchResultsV2&quot;</td><td>&quot;2025-01-10&quot;</td></tr><tr><td>30760</td><td>3017520</td><td>2025-02-10 11:19:49</td><td>&quot;page_view&quot;</td><td>&quot;catalog.searchResultsV2&quot;</td><td>&quot;2025-02-10&quot;</td></tr><tr><td>30760</td><td>2476291</td><td>2025-05-02 13:48:47</td><td>&quot;page_view&quot;</td><td>&quot;catalog.searchResultsV2&quot;</td><td>&quot;2025-05-02&quot;</td></tr><tr><td>30760</td><td>89601</td><td>2025-06-30 16:18:47</td><td>&quot;page_view&quot;</td><td>&quot;shelf.analogLookSimilar&quot;</td><td>&quot;2025-06-30&quot;</td></tr><tr><td>30760</td><td>3358921</td><td>2025-02-08 11:46:43</td><td>&quot;page_view&quot;</td><td>&quot;catalog.searchResultsV2&quot;</td><td>&quot;2025-02-08&quot;</td></tr><tr><td>&hellip;</td><td>&hellip;</td><td>&hellip;</td><td>&hellip;</td><td>&hellip;</td><td>&hellip;</td></tr><tr><td>338891677</td><td>1351550</td><td>2025-05-16 17:07:38</td><td>&quot;view_description&quot;</td><td>&quot;pdp.textDescription&quot;</td><td>&quot;2025-05-16&quot;</td></tr><tr><td>338891677</td><td>1351550</td><td>2025-05-16 17:07:38</td><td>&quot;view_description&quot;</td><td>&quot;pdp.textDescription&quot;</td><td>&quot;2025-05-16&quot;</td></tr><tr><td>338891677</td><td>1351550</td><td>2025-05-16 17:07:27</td><td>&quot;page_view&quot;</td><td>&quot;shelf.analogShelfPersonal&quot;</td><td>&quot;2025-05-16&quot;</td></tr><tr><td>338891677</td><td>148110</td><td>2025-05-24 10:48:46</td><td>&quot;page_view&quot;</td><td>null</td><td>&quot;2025-05-24&quot;</td></tr><tr><td>338891677</td><td>1488621</td><td>2025-05-10 01:40:50</td><td>&quot;page_view&quot;</td><td>&quot;favorites.searchResultsV2&quot;</td><td>&quot;2025-05-10&quot;</td></tr></tbody></table></div>"
      ],
      "text/plain": [
       "shape: (164_241_122, 6)\n",
       "┌───────────┬─────────┬─────────────────────┬──────────────────┬──────────────────────┬────────────┐\n",
       "│ item_id   ┆ user_id ┆ timestamp           ┆ action_type      ┆ action_widget        ┆ date       │\n",
       "│ ---       ┆ ---     ┆ ---                 ┆ ---              ┆ ---                  ┆ ---        │\n",
       "│ i32       ┆ i32     ┆ datetime[ns]        ┆ str              ┆ str                  ┆ str        │\n",
       "╞═══════════╪═════════╪═════════════════════╪══════════════════╪══════════════════════╪════════════╡\n",
       "│ 30760     ┆ 1889010 ┆ 2025-01-10 20:47:00 ┆ page_view        ┆ catalog.searchResult ┆ 2025-01-10 │\n",
       "│           ┆         ┆                     ┆                  ┆ sV2                  ┆            │\n",
       "│ 30760     ┆ 3017520 ┆ 2025-02-10 11:19:49 ┆ page_view        ┆ catalog.searchResult ┆ 2025-02-10 │\n",
       "│           ┆         ┆                     ┆                  ┆ sV2                  ┆            │\n",
       "│ 30760     ┆ 2476291 ┆ 2025-05-02 13:48:47 ┆ page_view        ┆ catalog.searchResult ┆ 2025-05-02 │\n",
       "│           ┆         ┆                     ┆                  ┆ sV2                  ┆            │\n",
       "│ 30760     ┆ 89601   ┆ 2025-06-30 16:18:47 ┆ page_view        ┆ shelf.analogLookSimi ┆ 2025-06-30 │\n",
       "│           ┆         ┆                     ┆                  ┆ lar                  ┆            │\n",
       "│ 30760     ┆ 3358921 ┆ 2025-02-08 11:46:43 ┆ page_view        ┆ catalog.searchResult ┆ 2025-02-08 │\n",
       "│           ┆         ┆                     ┆                  ┆ sV2                  ┆            │\n",
       "│ …         ┆ …       ┆ …                   ┆ …                ┆ …                    ┆ …          │\n",
       "│ 338891677 ┆ 1351550 ┆ 2025-05-16 17:07:38 ┆ view_description ┆ pdp.textDescription  ┆ 2025-05-16 │\n",
       "│ 338891677 ┆ 1351550 ┆ 2025-05-16 17:07:38 ┆ view_description ┆ pdp.textDescription  ┆ 2025-05-16 │\n",
       "│ 338891677 ┆ 1351550 ┆ 2025-05-16 17:07:27 ┆ page_view        ┆ shelf.analogShelfPer ┆ 2025-05-16 │\n",
       "│           ┆         ┆                     ┆                  ┆ sonal                ┆            │\n",
       "│ 338891677 ┆ 148110  ┆ 2025-05-24 10:48:46 ┆ page_view        ┆ null                 ┆ 2025-05-24 │\n",
       "│ 338891677 ┆ 1488621 ┆ 2025-05-10 01:40:50 ┆ page_view        ┆ favorites.searchResu ┆ 2025-05-10 │\n",
       "│           ┆         ┆                     ┆                  ┆ ltsV2                ┆            │\n",
       "└───────────┴─────────┴─────────────────────┴──────────────────┴──────────────────────┴────────────┘"
      ]
     },
     "execution_count": 30,
     "metadata": {},
     "output_type": "execute_result"
    }
   ],
   "source": [
    "tracker_df.filter(pl.col(\"timestamp\").dt.epoch(\"s\") > 1751414398)"
   ]
  },
  {
   "cell_type": "code",
   "execution_count": null,
   "id": "40989ece",
   "metadata": {},
   "outputs": [],
   "source": []
  },
  {
   "cell_type": "code",
   "execution_count": 25,
   "id": "27f13bd5",
   "metadata": {},
   "outputs": [
    {
     "data": {
      "text/plain": [
       "(1514836475, 1801702159)"
      ]
     },
     "execution_count": 25,
     "metadata": {},
     "output_type": "execute_result"
    }
   ],
   "source": [
    "tracker_df[\"timestamp\"].dt.epoch(\"s\").min(), tracker_df[\"timestamp\"].dt.epoch(\"s\").max()"
   ]
  },
  {
   "cell_type": "code",
   "execution_count": 26,
   "id": "fe286c54",
   "metadata": {},
   "outputs": [
    {
     "data": {
      "text/plain": [
       "(datetime.datetime(2018, 1, 1, 19, 54, 35),\n",
       " datetime.datetime(2027, 2, 4, 0, 49, 19))"
      ]
     },
     "execution_count": 26,
     "metadata": {},
     "output_type": "execute_result"
    }
   ],
   "source": [
    "tracker_df[\"timestamp\"].min(), tracker_df[\"timestamp\"].max()"
   ]
  },
  {
   "cell_type": "code",
   "execution_count": 19,
   "id": "66ce5be1",
   "metadata": {},
   "outputs": [
    {
     "data": {
      "text/plain": [
       "(1735689601, 1751414398)"
      ]
     },
     "execution_count": 19,
     "metadata": {},
     "output_type": "execute_result"
    }
   ],
   "source": [
    "orders_df[\"created_timestamp\"].dt.epoch(\"s\").min(), orders_df[\"created_timestamp\"].dt.epoch(\"s\").max()"
   ]
  },
  {
   "cell_type": "code",
   "execution_count": 23,
   "id": "ff721f05",
   "metadata": {},
   "outputs": [
    {
     "data": {
      "text/plain": [
       "(datetime.datetime(2025, 1, 1, 0, 0, 1, 406000),\n",
       " datetime.datetime(2025, 7, 1, 23, 59, 58, 283000))"
      ]
     },
     "execution_count": 23,
     "metadata": {},
     "output_type": "execute_result"
    }
   ],
   "source": [
    "orders_df[\"created_timestamp\"].min(), orders_df[\"created_timestamp\"].max()\n"
   ]
  },
  {
   "cell_type": "code",
   "execution_count": 10,
   "id": "ea7b42e6",
   "metadata": {},
   "outputs": [],
   "source": [
    "df = tracker_df.with_columns(pl.col(\"timestamp\").dt.epoch(\"s\").alias(\"timestamp\"))\n",
    "# tracker_df['timestamp'].max()"
   ]
  },
  {
   "cell_type": "code",
   "execution_count": 15,
   "id": "513c5c04",
   "metadata": {},
   "outputs": [
    {
     "data": {
      "text/html": [
       "<div><style>\n",
       ".dataframe > thead > tr,\n",
       ".dataframe > tbody > tr {\n",
       "  text-align: right;\n",
       "  white-space: pre-wrap;\n",
       "}\n",
       "</style>\n",
       "<small>shape: (164_241_333,)</small><table border=\"1\" class=\"dataframe\"><thead><tr><th>timestamp</th></tr><tr><td>i64</td></tr></thead><tbody><tr><td>1736542020</td></tr><tr><td>1739186389</td></tr><tr><td>1746193727</td></tr><tr><td>1751300327</td></tr><tr><td>1739015203</td></tr><tr><td>&hellip;</td></tr><tr><td>1747415258</td></tr><tr><td>1747415258</td></tr><tr><td>1747415247</td></tr><tr><td>1748083726</td></tr><tr><td>1746841250</td></tr></tbody></table></div>"
      ],
      "text/plain": [
       "shape: (164_241_333,)\n",
       "Series: 'timestamp' [i64]\n",
       "[\n",
       "\t1736542020\n",
       "\t1739186389\n",
       "\t1746193727\n",
       "\t1751300327\n",
       "\t1739015203\n",
       "\t…\n",
       "\t1747415258\n",
       "\t1747415258\n",
       "\t1747415247\n",
       "\t1748083726\n",
       "\t1746841250\n",
       "]"
      ]
     },
     "execution_count": 15,
     "metadata": {},
     "output_type": "execute_result"
    }
   ],
   "source": [
    "tracker_df[\"timestamp\"].dt.epoch(\"s\")"
   ]
  },
  {
   "cell_type": "code",
   "execution_count": 13,
   "id": "e1f539a5",
   "metadata": {},
   "outputs": [
    {
     "data": {
      "text/html": [
       "col(\"timestamp\").map()"
      ],
      "text/plain": [
       "<Expr ['col(\"timestamp\").map()'] at 0x151A0D3A0>"
      ]
     },
     "execution_count": 13,
     "metadata": {},
     "output_type": "execute_result"
    }
   ],
   "source": [
    "ts_s = pl.col(\"timestamp\").dt.epoch(\"s\") \n",
    "ts_s"
   ]
  },
  {
   "cell_type": "code",
   "execution_count": 5,
   "id": "8fcd031f",
   "metadata": {},
   "outputs": [
    {
     "data": {
      "text/html": [
       "<div><style>\n",
       ".dataframe > thead > tr,\n",
       ".dataframe > tbody > tr {\n",
       "  text-align: right;\n",
       "  white-space: pre-wrap;\n",
       "}\n",
       "</style>\n",
       "<small>shape: (3, 2)</small><table border=\"1\" class=\"dataframe\"><thead><tr><th>last_status</th><th>count</th></tr><tr><td>str</td><td>u32</td></tr></thead><tbody><tr><td>&quot;proccesed_orders&quot;</td><td>960296</td></tr><tr><td>&quot;canceled_orders&quot;</td><td>7990577</td></tr><tr><td>&quot;delivered_orders&quot;</td><td>9936249</td></tr></tbody></table></div>"
      ],
      "text/plain": [
       "shape: (3, 2)\n",
       "┌──────────────────┬─────────┐\n",
       "│ last_status      ┆ count   │\n",
       "│ ---              ┆ ---     │\n",
       "│ str              ┆ u32     │\n",
       "╞══════════════════╪═════════╡\n",
       "│ proccesed_orders ┆ 960296  │\n",
       "│ canceled_orders  ┆ 7990577 │\n",
       "│ delivered_orders ┆ 9936249 │\n",
       "└──────────────────┴─────────┘"
      ]
     },
     "execution_count": 5,
     "metadata": {},
     "output_type": "execute_result"
    }
   ],
   "source": [
    "orders_df['last_status'].value_counts()"
   ]
  },
  {
   "cell_type": "code",
   "execution_count": 8,
   "id": "29d0d1d3",
   "metadata": {},
   "outputs": [
    {
     "data": {
      "text/html": [
       "<div><style>\n",
       ".dataframe > thead > tr,\n",
       ".dataframe > tbody > tr {\n",
       "  text-align: right;\n",
       "  white-space: pre-wrap;\n",
       "}\n",
       "</style>\n",
       "<small>shape: (7, 2)</small><table border=\"1\" class=\"dataframe\"><thead><tr><th>action_type</th><th>count</th></tr><tr><td>str</td><td>u32</td></tr></thead><tbody><tr><td>&quot;unfavorite&quot;</td><td>1982175</td></tr><tr><td>&quot;remove&quot;</td><td>3712297</td></tr><tr><td>&quot;favorite&quot;</td><td>5199691</td></tr><tr><td>&quot;to_cart&quot;</td><td>6096416</td></tr><tr><td>&quot;view_description&quot;</td><td>22111951</td></tr><tr><td>&quot;review_view&quot;</td><td>7593543</td></tr><tr><td>&quot;page_view&quot;</td><td>117545260</td></tr></tbody></table></div>"
      ],
      "text/plain": [
       "shape: (7, 2)\n",
       "┌──────────────────┬───────────┐\n",
       "│ action_type      ┆ count     │\n",
       "│ ---              ┆ ---       │\n",
       "│ str              ┆ u32       │\n",
       "╞══════════════════╪═══════════╡\n",
       "│ unfavorite       ┆ 1982175   │\n",
       "│ remove           ┆ 3712297   │\n",
       "│ favorite         ┆ 5199691   │\n",
       "│ to_cart          ┆ 6096416   │\n",
       "│ view_description ┆ 22111951  │\n",
       "│ review_view      ┆ 7593543   │\n",
       "│ page_view        ┆ 117545260 │\n",
       "└──────────────────┴───────────┘"
      ]
     },
     "execution_count": 8,
     "metadata": {},
     "output_type": "execute_result"
    }
   ],
   "source": [
    "tracker_df['action_type'].value_counts()"
   ]
  },
  {
   "cell_type": "code",
   "execution_count": null,
   "id": "a05ae7ee",
   "metadata": {},
   "outputs": [],
   "source": []
  },
  {
   "cell_type": "code",
   "execution_count": null,
   "id": "fd9523c7",
   "metadata": {},
   "outputs": [],
   "source": []
  },
  {
   "cell_type": "code",
   "execution_count": 9,
   "id": "6de6638f",
   "metadata": {},
   "outputs": [
    {
     "data": {
      "text/html": [
       "<div><style>\n",
       ".dataframe > thead > tr,\n",
       ".dataframe > tbody > tr {\n",
       "  text-align: right;\n",
       "  white-space: pre-wrap;\n",
       "}\n",
       "</style>\n",
       "<small>shape: (164_241_333, 6)</small><table border=\"1\" class=\"dataframe\"><thead><tr><th>item_id</th><th>user_id</th><th>timestamp</th><th>action_type</th><th>action_widget</th><th>date</th></tr><tr><td>i32</td><td>i32</td><td>datetime[ns]</td><td>str</td><td>str</td><td>str</td></tr></thead><tbody><tr><td>30760</td><td>1889010</td><td>2025-01-10 20:47:00</td><td>&quot;page_view&quot;</td><td>&quot;catalog.searchResultsV2&quot;</td><td>&quot;2025-01-10&quot;</td></tr><tr><td>30760</td><td>3017520</td><td>2025-02-10 11:19:49</td><td>&quot;page_view&quot;</td><td>&quot;catalog.searchResultsV2&quot;</td><td>&quot;2025-02-10&quot;</td></tr><tr><td>30760</td><td>2476291</td><td>2025-05-02 13:48:47</td><td>&quot;page_view&quot;</td><td>&quot;catalog.searchResultsV2&quot;</td><td>&quot;2025-05-02&quot;</td></tr><tr><td>30760</td><td>89601</td><td>2025-06-30 16:18:47</td><td>&quot;page_view&quot;</td><td>&quot;shelf.analogLookSimilar&quot;</td><td>&quot;2025-06-30&quot;</td></tr><tr><td>30760</td><td>3358921</td><td>2025-02-08 11:46:43</td><td>&quot;page_view&quot;</td><td>&quot;catalog.searchResultsV2&quot;</td><td>&quot;2025-02-08&quot;</td></tr><tr><td>&hellip;</td><td>&hellip;</td><td>&hellip;</td><td>&hellip;</td><td>&hellip;</td><td>&hellip;</td></tr><tr><td>338891677</td><td>1351550</td><td>2025-05-16 17:07:38</td><td>&quot;view_description&quot;</td><td>&quot;pdp.textDescription&quot;</td><td>&quot;2025-05-16&quot;</td></tr><tr><td>338891677</td><td>1351550</td><td>2025-05-16 17:07:38</td><td>&quot;view_description&quot;</td><td>&quot;pdp.textDescription&quot;</td><td>&quot;2025-05-16&quot;</td></tr><tr><td>338891677</td><td>1351550</td><td>2025-05-16 17:07:27</td><td>&quot;page_view&quot;</td><td>&quot;shelf.analogShelfPersonal&quot;</td><td>&quot;2025-05-16&quot;</td></tr><tr><td>338891677</td><td>148110</td><td>2025-05-24 10:48:46</td><td>&quot;page_view&quot;</td><td>null</td><td>&quot;2025-05-24&quot;</td></tr><tr><td>338891677</td><td>1488621</td><td>2025-05-10 01:40:50</td><td>&quot;page_view&quot;</td><td>&quot;favorites.searchResultsV2&quot;</td><td>&quot;2025-05-10&quot;</td></tr></tbody></table></div>"
      ],
      "text/plain": [
       "shape: (164_241_333, 6)\n",
       "┌───────────┬─────────┬─────────────────────┬──────────────────┬──────────────────────┬────────────┐\n",
       "│ item_id   ┆ user_id ┆ timestamp           ┆ action_type      ┆ action_widget        ┆ date       │\n",
       "│ ---       ┆ ---     ┆ ---                 ┆ ---              ┆ ---                  ┆ ---        │\n",
       "│ i32       ┆ i32     ┆ datetime[ns]        ┆ str              ┆ str                  ┆ str        │\n",
       "╞═══════════╪═════════╪═════════════════════╪══════════════════╪══════════════════════╪════════════╡\n",
       "│ 30760     ┆ 1889010 ┆ 2025-01-10 20:47:00 ┆ page_view        ┆ catalog.searchResult ┆ 2025-01-10 │\n",
       "│           ┆         ┆                     ┆                  ┆ sV2                  ┆            │\n",
       "│ 30760     ┆ 3017520 ┆ 2025-02-10 11:19:49 ┆ page_view        ┆ catalog.searchResult ┆ 2025-02-10 │\n",
       "│           ┆         ┆                     ┆                  ┆ sV2                  ┆            │\n",
       "│ 30760     ┆ 2476291 ┆ 2025-05-02 13:48:47 ┆ page_view        ┆ catalog.searchResult ┆ 2025-05-02 │\n",
       "│           ┆         ┆                     ┆                  ┆ sV2                  ┆            │\n",
       "│ 30760     ┆ 89601   ┆ 2025-06-30 16:18:47 ┆ page_view        ┆ shelf.analogLookSimi ┆ 2025-06-30 │\n",
       "│           ┆         ┆                     ┆                  ┆ lar                  ┆            │\n",
       "│ 30760     ┆ 3358921 ┆ 2025-02-08 11:46:43 ┆ page_view        ┆ catalog.searchResult ┆ 2025-02-08 │\n",
       "│           ┆         ┆                     ┆                  ┆ sV2                  ┆            │\n",
       "│ …         ┆ …       ┆ …                   ┆ …                ┆ …                    ┆ …          │\n",
       "│ 338891677 ┆ 1351550 ┆ 2025-05-16 17:07:38 ┆ view_description ┆ pdp.textDescription  ┆ 2025-05-16 │\n",
       "│ 338891677 ┆ 1351550 ┆ 2025-05-16 17:07:38 ┆ view_description ┆ pdp.textDescription  ┆ 2025-05-16 │\n",
       "│ 338891677 ┆ 1351550 ┆ 2025-05-16 17:07:27 ┆ page_view        ┆ shelf.analogShelfPer ┆ 2025-05-16 │\n",
       "│           ┆         ┆                     ┆                  ┆ sonal                ┆            │\n",
       "│ 338891677 ┆ 148110  ┆ 2025-05-24 10:48:46 ┆ page_view        ┆ null                 ┆ 2025-05-24 │\n",
       "│ 338891677 ┆ 1488621 ┆ 2025-05-10 01:40:50 ┆ page_view        ┆ favorites.searchResu ┆ 2025-05-10 │\n",
       "│           ┆         ┆                     ┆                  ┆ ltsV2                ┆            │\n",
       "└───────────┴─────────┴─────────────────────┴──────────────────┴──────────────────────┴────────────┘"
      ]
     },
     "execution_count": 9,
     "metadata": {},
     "output_type": "execute_result"
    }
   ],
   "source": [
    "tracker_df"
   ]
  }
 ],
 "metadata": {
  "kernelspec": {
   "display_name": "base",
   "language": "python",
   "name": "python3"
  },
  "language_info": {
   "codemirror_mode": {
    "name": "ipython",
    "version": 3
   },
   "file_extension": ".py",
   "mimetype": "text/x-python",
   "name": "python",
   "nbconvert_exporter": "python",
   "pygments_lexer": "ipython3",
   "version": "3.12.7"
  }
 },
 "nbformat": 4,
 "nbformat_minor": 5
}
