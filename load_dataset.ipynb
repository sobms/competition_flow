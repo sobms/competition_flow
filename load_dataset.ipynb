{
 "cells": [
  {
   "cell_type": "code",
   "execution_count": 2,
   "id": "8c9350e9",
   "metadata": {},
   "outputs": [
    {
     "name": "stdout",
     "output_type": "stream",
     "text": [
      "Найдено файлов заказов: 5\n",
      "Найдено файлов взаимодействий: 200\n",
      "Найдено файлов товаров: 100\n",
      "Загружено категорий: 7,012\n"
     ]
    },
    {
     "name": "stderr",
     "output_type": "stream",
     "text": [
      "Загрузка заказов: 100%|██████████| 5/5 [00:00<00:00,  6.17it/s]\n"
     ]
    },
    {
     "name": "stdout",
     "output_type": "stream",
     "text": [
      "Загружено заказов: 18,887,122\n"
     ]
    },
    {
     "name": "stderr",
     "output_type": "stream",
     "text": [
      "Загрузка взаимодействий: 100%|██████████| 20/20 [00:05<00:00,  3.50it/s]\n"
     ]
    },
    {
     "name": "stdout",
     "output_type": "stream",
     "text": [
      "Загружено взаимодействий: 164,241,333\n"
     ]
    },
    {
     "name": "stderr",
     "output_type": "stream",
     "text": [
      "Загрузка товаров: 100%|██████████| 10/10 [00:05<00:00,  1.82it/s]"
     ]
    },
    {
     "name": "stdout",
     "output_type": "stream",
     "text": [
      "Загружено товаров: 644,381\n"
     ]
    },
    {
     "name": "stderr",
     "output_type": "stream",
     "text": [
      "\n"
     ]
    }
   ],
   "source": [
    "import polars as pl\n",
    "import glob\n",
    "from pathlib import Path\n",
    "from tqdm import tqdm\n",
    "\n",
    "base_dir = Path('data/raw_data')\n",
    "cats_tree = glob.glob(str(base_dir / 'ml_ozon_recsys_categories_tree/*.parquet'))[0]\n",
    "orders_files = glob.glob(str(base_dir / 'ml_ozon_recsys_orders_data/*.parquet'))\n",
    "tracker_files = glob.glob(str(base_dir /'ml_ozon_recsys_tracker_data/*.parquet'))\n",
    "items_files = glob.glob(str(base_dir /'ml_ozon_recsys_items_data/*.parquet'))\n",
    "\n",
    "print(f\"Найдено файлов заказов: {len(orders_files)}\")\n",
    "print(f\"Найдено файлов взаимодействий: {len(tracker_files)}\")\n",
    "print(f\"Найдено файлов товаров: {len(items_files)}\")\n",
    "\n",
    "\n",
    "categories_df = pl.read_parquet(cats_tree)\n",
    "print(f\"Загружено категорий: {len(categories_df):,}\")\n",
    "\n",
    "orders_data = []\n",
    "for file_path in tqdm(orders_files, desc=\"Загрузка заказов\"):\n",
    "    df = pl.read_parquet(file_path)\n",
    "    orders_data.append(df)\n",
    "orders_df = pl.concat(orders_data)\n",
    "print(f\"Загружено заказов: {len(orders_df):,}\")\n",
    "\n",
    "tracker_data = []\n",
    "for file_path in tqdm(tracker_files[:20], desc=\"Загрузка взаимодействий\"):\n",
    "    df = pl.read_parquet(file_path)\n",
    "    tracker_data.append(df)\n",
    "tracker_df = pl.concat(tracker_data)\n",
    "print(f\"Загружено взаимодействий: {len(tracker_df):,}\")\n",
    "\n",
    "items_data = []\n",
    "for file_path in tqdm(items_files[:10], desc=\"Загрузка товаров\"):\n",
    "    df = pl.read_parquet(file_path)\n",
    "    items_data.append(df)\n",
    "items_df = pl.concat(items_data)\n",
    "print(f\"Загружено товаров: {len(items_df):,}\")"
   ]
  },
  {
   "cell_type": "code",
   "execution_count": 3,
   "id": "a1036301",
   "metadata": {},
   "outputs": [
    {
     "name": "stderr",
     "output_type": "stream",
     "text": [
      "Загрузка взаимодействий: 100%|██████████| 200/200 [00:46<00:00,  4.33it/s]"
     ]
    },
    {
     "name": "stdout",
     "output_type": "stream",
     "text": [
      "Загружено взаимодействий: 2,363\n"
     ]
    },
    {
     "name": "stderr",
     "output_type": "stream",
     "text": [
      "\n"
     ]
    }
   ],
   "source": [
    "trash_data = []\n",
    "for file_path in tqdm(tracker_files, desc=\"Загрузка взаимодействий\"):\n",
    "    df = pl.read_parquet(file_path)\n",
    "    trash_df = df.filter(pl.col(\"timestamp\").dt.epoch(\"s\") > 1751414398)\n",
    "    trash_data.append(trash_df)\n",
    "total_trash_df = pl.concat(trash_data)\n",
    "print(f\"Загружено взаимодействий: {len(total_trash_df):,}\")"
   ]
  },
  {
   "cell_type": "code",
   "execution_count": 22,
   "id": "6d652f3a",
   "metadata": {},
   "outputs": [
    {
     "data": {
      "text/html": [
       "<div><style>\n",
       ".dataframe > thead > tr,\n",
       ".dataframe > tbody > tr {\n",
       "  text-align: right;\n",
       "  white-space: pre-wrap;\n",
       "}\n",
       "</style>\n",
       "<small>shape: (7_012, 3)</small><table border=\"1\" class=\"dataframe\"><thead><tr><th>catalogid</th><th>catalogpath</th><th>ids</th></tr><tr><td>i64</td><td>list[struct[3]]</td><td>list[i64]</td></tr></thead><tbody><tr><td>15500</td><td>[{15500,&quot;Электроника&quot;,&quot;Электроника&quot;}, {-1,&quot;Общий каталог&quot;,&quot;Общий каталог&quot;}]</td><td>[15500, -1]</td></tr><tr><td>15501</td><td>[{15501,&quot;Телефоны и смарт-часы&quot;,&quot;Телефоны и смарт-часы&quot;}, {15500,&quot;Электроника&quot;,&quot;Электроника&quot;}, {-1,&quot;Общий каталог&quot;,&quot;Общий каталог&quot;}]</td><td>[15501, 15500, -1]</td></tr><tr><td>15502</td><td>[{15502,&quot;Смартфоны&quot;,&quot;Смартфоны&quot;}, {15501,&quot;Телефоны и смарт-часы&quot;,&quot;Телефоны и смарт-часы&quot;}, … {-1,&quot;Общий каталог&quot;,&quot;Общий каталог&quot;}]</td><td>[15502, 15501, … -1]</td></tr><tr><td>15511</td><td>[{15511,&quot;Аксессуары для смартфонов и телефонов&quot;,&quot;Аксессуары для смартфонов и телефонов&quot;}, {15501,&quot;Телефоны и смарт-часы&quot;,&quot;Телефоны и смарт-часы&quot;}, … {-1,&quot;Общий каталог&quot;,&quot;Общий каталог&quot;}]</td><td>[15511, 15501, … -1]</td></tr><tr><td>15892</td><td>[{15892,&quot;Чехлы&quot;,&quot;Чехлы для смартфонов&quot;}, {15511,&quot;Аксессуары для смартфонов и телефонов&quot;,&quot;Аксессуары для смартфонов и телефонов&quot;}, … {-1,&quot;Общий каталог&quot;,&quot;Общий каталог&quot;}]</td><td>[15892, 15511, … -1]</td></tr><tr><td>&hellip;</td><td>&hellip;</td><td>&hellip;</td></tr><tr><td>39405</td><td>[{39405,&quot;Екатеринбург&quot;,&quot;Отели Екатеринбурга&quot;}, {55455,&quot;Отели&quot;,&quot;Отели&quot;}, … {-1,&quot;Общий каталог&quot;,&quot;Общий каталог&quot;}]</td><td>[39405, 55455, … -1]</td></tr><tr><td>39406</td><td>[{39406,&quot;Нижний Новгород&quot;,&quot;Отели Нижнего Новгорода&quot;}, {55455,&quot;Отели&quot;,&quot;Отели&quot;}, … {-1,&quot;Общий каталог&quot;,&quot;Общий каталог&quot;}]</td><td>[39406, 55455, … -1]</td></tr><tr><td>39398</td><td>[{39398,&quot;Экскурсии&quot;,&quot;Экскурсии&quot;}, {55055,&quot;Билеты, отели, туры&quot;,&quot;Билеты, отели, туры&quot;}, {-1,&quot;Общий каталог&quot;,&quot;Общий каталог&quot;}]</td><td>[39398, 55055, -1]</td></tr><tr><td>39792</td><td>[{39792,&quot;Туры&quot;,&quot;Туры&quot;}, {55055,&quot;Билеты, отели, туры&quot;,&quot;Билеты, отели, туры&quot;}, {-1,&quot;Общий каталог&quot;,&quot;Общий каталог&quot;}]</td><td>[39792, 55055, -1]</td></tr><tr><td>77777</td><td>[{77777,&quot;Ozon Объявления&quot;,&quot;Ozon Объявления&quot;}, {-1,&quot;Общий каталог&quot;,&quot;Общий каталог&quot;}]</td><td>[77777, -1]</td></tr></tbody></table></div>"
      ],
      "text/plain": [
       "shape: (7_012, 3)\n",
       "┌───────────┬─────────────────────────────────┬──────────────────────┐\n",
       "│ catalogid ┆ catalogpath                     ┆ ids                  │\n",
       "│ ---       ┆ ---                             ┆ ---                  │\n",
       "│ i64       ┆ list[struct[3]]                 ┆ list[i64]            │\n",
       "╞═══════════╪═════════════════════════════════╪══════════════════════╡\n",
       "│ 15500     ┆ [{15500,\"Электроника\",\"Электро… ┆ [15500, -1]          │\n",
       "│ 15501     ┆ [{15501,\"Телефоны и смарт-часы… ┆ [15501, 15500, -1]   │\n",
       "│ 15502     ┆ [{15502,\"Смартфоны\",\"Смартфоны… ┆ [15502, 15501, … -1] │\n",
       "│ 15511     ┆ [{15511,\"Аксессуары для смартф… ┆ [15511, 15501, … -1] │\n",
       "│ 15892     ┆ [{15892,\"Чехлы\",\"Чехлы для сма… ┆ [15892, 15511, … -1] │\n",
       "│ …         ┆ …                               ┆ …                    │\n",
       "│ 39405     ┆ [{39405,\"Екатеринбург\",\"Отели … ┆ [39405, 55455, … -1] │\n",
       "│ 39406     ┆ [{39406,\"Нижний Новгород\",\"Оте… ┆ [39406, 55455, … -1] │\n",
       "│ 39398     ┆ [{39398,\"Экскурсии\",\"Экскурсии… ┆ [39398, 55055, -1]   │\n",
       "│ 39792     ┆ [{39792,\"Туры\",\"Туры\"}, {55055… ┆ [39792, 55055, -1]   │\n",
       "│ 77777     ┆ [{77777,\"Ozon Объявления\",\"Ozo… ┆ [77777, -1]          │\n",
       "└───────────┴─────────────────────────────────┴──────────────────────┘"
      ]
     },
     "execution_count": 22,
     "metadata": {},
     "output_type": "execute_result"
    }
   ],
   "source": [
    "categories_df"
   ]
  },
  {
   "cell_type": "code",
   "execution_count": null,
   "id": "cee58cf5",
   "metadata": {},
   "outputs": [
    {
     "data": {
      "text/html": [
       "<div><style>\n",
       ".dataframe > thead > tr,\n",
       ".dataframe > tbody > tr {\n",
       "  text-align: right;\n",
       "  white-space: pre-wrap;\n",
       "}\n",
       "</style>\n",
       "<small>shape: (164_241_122, 6)</small><table border=\"1\" class=\"dataframe\"><thead><tr><th>item_id</th><th>user_id</th><th>timestamp</th><th>action_type</th><th>action_widget</th><th>date</th></tr><tr><td>i32</td><td>i32</td><td>datetime[ns]</td><td>str</td><td>str</td><td>str</td></tr></thead><tbody><tr><td>30760</td><td>1889010</td><td>2025-01-10 20:47:00</td><td>&quot;page_view&quot;</td><td>&quot;catalog.searchResultsV2&quot;</td><td>&quot;2025-01-10&quot;</td></tr><tr><td>30760</td><td>3017520</td><td>2025-02-10 11:19:49</td><td>&quot;page_view&quot;</td><td>&quot;catalog.searchResultsV2&quot;</td><td>&quot;2025-02-10&quot;</td></tr><tr><td>30760</td><td>2476291</td><td>2025-05-02 13:48:47</td><td>&quot;page_view&quot;</td><td>&quot;catalog.searchResultsV2&quot;</td><td>&quot;2025-05-02&quot;</td></tr><tr><td>30760</td><td>89601</td><td>2025-06-30 16:18:47</td><td>&quot;page_view&quot;</td><td>&quot;shelf.analogLookSimilar&quot;</td><td>&quot;2025-06-30&quot;</td></tr><tr><td>30760</td><td>3358921</td><td>2025-02-08 11:46:43</td><td>&quot;page_view&quot;</td><td>&quot;catalog.searchResultsV2&quot;</td><td>&quot;2025-02-08&quot;</td></tr><tr><td>&hellip;</td><td>&hellip;</td><td>&hellip;</td><td>&hellip;</td><td>&hellip;</td><td>&hellip;</td></tr><tr><td>338891677</td><td>1351550</td><td>2025-05-16 17:07:38</td><td>&quot;view_description&quot;</td><td>&quot;pdp.textDescription&quot;</td><td>&quot;2025-05-16&quot;</td></tr><tr><td>338891677</td><td>1351550</td><td>2025-05-16 17:07:38</td><td>&quot;view_description&quot;</td><td>&quot;pdp.textDescription&quot;</td><td>&quot;2025-05-16&quot;</td></tr><tr><td>338891677</td><td>1351550</td><td>2025-05-16 17:07:27</td><td>&quot;page_view&quot;</td><td>&quot;shelf.analogShelfPersonal&quot;</td><td>&quot;2025-05-16&quot;</td></tr><tr><td>338891677</td><td>148110</td><td>2025-05-24 10:48:46</td><td>&quot;page_view&quot;</td><td>null</td><td>&quot;2025-05-24&quot;</td></tr><tr><td>338891677</td><td>1488621</td><td>2025-05-10 01:40:50</td><td>&quot;page_view&quot;</td><td>&quot;favorites.searchResultsV2&quot;</td><td>&quot;2025-05-10&quot;</td></tr></tbody></table></div>"
      ],
      "text/plain": [
       "shape: (164_241_122, 6)\n",
       "┌───────────┬─────────┬─────────────────────┬──────────────────┬──────────────────────┬────────────┐\n",
       "│ item_id   ┆ user_id ┆ timestamp           ┆ action_type      ┆ action_widget        ┆ date       │\n",
       "│ ---       ┆ ---     ┆ ---                 ┆ ---              ┆ ---                  ┆ ---        │\n",
       "│ i32       ┆ i32     ┆ datetime[ns]        ┆ str              ┆ str                  ┆ str        │\n",
       "╞═══════════╪═════════╪═════════════════════╪══════════════════╪══════════════════════╪════════════╡\n",
       "│ 30760     ┆ 1889010 ┆ 2025-01-10 20:47:00 ┆ page_view        ┆ catalog.searchResult ┆ 2025-01-10 │\n",
       "│           ┆         ┆                     ┆                  ┆ sV2                  ┆            │\n",
       "│ 30760     ┆ 3017520 ┆ 2025-02-10 11:19:49 ┆ page_view        ┆ catalog.searchResult ┆ 2025-02-10 │\n",
       "│           ┆         ┆                     ┆                  ┆ sV2                  ┆            │\n",
       "│ 30760     ┆ 2476291 ┆ 2025-05-02 13:48:47 ┆ page_view        ┆ catalog.searchResult ┆ 2025-05-02 │\n",
       "│           ┆         ┆                     ┆                  ┆ sV2                  ┆            │\n",
       "│ 30760     ┆ 89601   ┆ 2025-06-30 16:18:47 ┆ page_view        ┆ shelf.analogLookSimi ┆ 2025-06-30 │\n",
       "│           ┆         ┆                     ┆                  ┆ lar                  ┆            │\n",
       "│ 30760     ┆ 3358921 ┆ 2025-02-08 11:46:43 ┆ page_view        ┆ catalog.searchResult ┆ 2025-02-08 │\n",
       "│           ┆         ┆                     ┆                  ┆ sV2                  ┆            │\n",
       "│ …         ┆ …       ┆ …                   ┆ …                ┆ …                    ┆ …          │\n",
       "│ 338891677 ┆ 1351550 ┆ 2025-05-16 17:07:38 ┆ view_description ┆ pdp.textDescription  ┆ 2025-05-16 │\n",
       "│ 338891677 ┆ 1351550 ┆ 2025-05-16 17:07:38 ┆ view_description ┆ pdp.textDescription  ┆ 2025-05-16 │\n",
       "│ 338891677 ┆ 1351550 ┆ 2025-05-16 17:07:27 ┆ page_view        ┆ shelf.analogShelfPer ┆ 2025-05-16 │\n",
       "│           ┆         ┆                     ┆                  ┆ sonal                ┆            │\n",
       "│ 338891677 ┆ 148110  ┆ 2025-05-24 10:48:46 ┆ page_view        ┆ null                 ┆ 2025-05-24 │\n",
       "│ 338891677 ┆ 1488621 ┆ 2025-05-10 01:40:50 ┆ page_view        ┆ favorites.searchResu ┆ 2025-05-10 │\n",
       "│           ┆         ┆                     ┆                  ┆ ltsV2                ┆            │\n",
       "└───────────┴─────────┴─────────────────────┴──────────────────┴──────────────────────┴────────────┘"
      ]
     },
     "execution_count": 30,
     "metadata": {},
     "output_type": "execute_result"
    }
   ],
   "source": [
    "tracker_df.filter(pl.col(\"timestamp\").dt.epoch(\"s\") > 1751414398)"
   ]
  },
  {
   "cell_type": "code",
   "execution_count": null,
   "id": "40989ece",
   "metadata": {},
   "outputs": [],
   "source": []
  },
  {
   "cell_type": "code",
   "execution_count": 25,
   "id": "27f13bd5",
   "metadata": {},
   "outputs": [
    {
     "data": {
      "text/plain": [
       "(1514836475, 1801702159)"
      ]
     },
     "execution_count": 25,
     "metadata": {},
     "output_type": "execute_result"
    }
   ],
   "source": [
    "tracker_df[\"timestamp\"].dt.epoch(\"s\").min(), tracker_df[\"timestamp\"].dt.epoch(\"s\").max()"
   ]
  },
  {
   "cell_type": "code",
   "execution_count": 26,
   "id": "fe286c54",
   "metadata": {},
   "outputs": [
    {
     "data": {
      "text/plain": [
       "(datetime.datetime(2018, 1, 1, 19, 54, 35),\n",
       " datetime.datetime(2027, 2, 4, 0, 49, 19))"
      ]
     },
     "execution_count": 26,
     "metadata": {},
     "output_type": "execute_result"
    }
   ],
   "source": [
    "tracker_df[\"timestamp\"].min(), tracker_df[\"timestamp\"].max()"
   ]
  },
  {
   "cell_type": "code",
   "execution_count": 19,
   "id": "66ce5be1",
   "metadata": {},
   "outputs": [
    {
     "data": {
      "text/plain": [
       "(1735689601, 1751414398)"
      ]
     },
     "execution_count": 19,
     "metadata": {},
     "output_type": "execute_result"
    }
   ],
   "source": [
    "orders_df[\"created_timestamp\"].dt.epoch(\"s\").min(), orders_df[\"created_timestamp\"].dt.epoch(\"s\").max()"
   ]
  },
  {
   "cell_type": "code",
   "execution_count": 23,
   "id": "ff721f05",
   "metadata": {},
   "outputs": [
    {
     "data": {
      "text/plain": [
       "(datetime.datetime(2025, 1, 1, 0, 0, 1, 406000),\n",
       " datetime.datetime(2025, 7, 1, 23, 59, 58, 283000))"
      ]
     },
     "execution_count": 23,
     "metadata": {},
     "output_type": "execute_result"
    }
   ],
   "source": [
    "orders_df[\"created_timestamp\"].min(), orders_df[\"created_timestamp\"].max()\n"
   ]
  },
  {
   "cell_type": "code",
   "execution_count": 10,
   "id": "ea7b42e6",
   "metadata": {},
   "outputs": [],
   "source": [
    "df = tracker_df.with_columns(pl.col(\"timestamp\").dt.epoch(\"s\").alias(\"timestamp\"))\n",
    "# tracker_df['timestamp'].max()"
   ]
  },
  {
   "cell_type": "code",
   "execution_count": 15,
   "id": "513c5c04",
   "metadata": {},
   "outputs": [
    {
     "data": {
      "text/html": [
       "<div><style>\n",
       ".dataframe > thead > tr,\n",
       ".dataframe > tbody > tr {\n",
       "  text-align: right;\n",
       "  white-space: pre-wrap;\n",
       "}\n",
       "</style>\n",
       "<small>shape: (164_241_333,)</small><table border=\"1\" class=\"dataframe\"><thead><tr><th>timestamp</th></tr><tr><td>i64</td></tr></thead><tbody><tr><td>1736542020</td></tr><tr><td>1739186389</td></tr><tr><td>1746193727</td></tr><tr><td>1751300327</td></tr><tr><td>1739015203</td></tr><tr><td>&hellip;</td></tr><tr><td>1747415258</td></tr><tr><td>1747415258</td></tr><tr><td>1747415247</td></tr><tr><td>1748083726</td></tr><tr><td>1746841250</td></tr></tbody></table></div>"
      ],
      "text/plain": [
       "shape: (164_241_333,)\n",
       "Series: 'timestamp' [i64]\n",
       "[\n",
       "\t1736542020\n",
       "\t1739186389\n",
       "\t1746193727\n",
       "\t1751300327\n",
       "\t1739015203\n",
       "\t…\n",
       "\t1747415258\n",
       "\t1747415258\n",
       "\t1747415247\n",
       "\t1748083726\n",
       "\t1746841250\n",
       "]"
      ]
     },
     "execution_count": 15,
     "metadata": {},
     "output_type": "execute_result"
    }
   ],
   "source": [
    "tracker_df[\"timestamp\"].dt.epoch(\"s\")"
   ]
  },
  {
   "cell_type": "code",
   "execution_count": 13,
   "id": "e1f539a5",
   "metadata": {},
   "outputs": [
    {
     "data": {
      "text/html": [
       "col(\"timestamp\").map()"
      ],
      "text/plain": [
       "<Expr ['col(\"timestamp\").map()'] at 0x151A0D3A0>"
      ]
     },
     "execution_count": 13,
     "metadata": {},
     "output_type": "execute_result"
    }
   ],
   "source": [
    "ts_s = pl.col(\"timestamp\").dt.epoch(\"s\") \n",
    "ts_s"
   ]
  },
  {
   "cell_type": "code",
   "execution_count": 5,
   "id": "8fcd031f",
   "metadata": {},
   "outputs": [
    {
     "data": {
      "text/html": [
       "<div><style>\n",
       ".dataframe > thead > tr,\n",
       ".dataframe > tbody > tr {\n",
       "  text-align: right;\n",
       "  white-space: pre-wrap;\n",
       "}\n",
       "</style>\n",
       "<small>shape: (3, 2)</small><table border=\"1\" class=\"dataframe\"><thead><tr><th>last_status</th><th>count</th></tr><tr><td>str</td><td>u32</td></tr></thead><tbody><tr><td>&quot;proccesed_orders&quot;</td><td>960296</td></tr><tr><td>&quot;canceled_orders&quot;</td><td>7990577</td></tr><tr><td>&quot;delivered_orders&quot;</td><td>9936249</td></tr></tbody></table></div>"
      ],
      "text/plain": [
       "shape: (3, 2)\n",
       "┌──────────────────┬─────────┐\n",
       "│ last_status      ┆ count   │\n",
       "│ ---              ┆ ---     │\n",
       "│ str              ┆ u32     │\n",
       "╞══════════════════╪═════════╡\n",
       "│ proccesed_orders ┆ 960296  │\n",
       "│ canceled_orders  ┆ 7990577 │\n",
       "│ delivered_orders ┆ 9936249 │\n",
       "└──────────────────┴─────────┘"
      ]
     },
     "execution_count": 5,
     "metadata": {},
     "output_type": "execute_result"
    }
   ],
   "source": [
    "orders_df['last_status'].value_counts()"
   ]
  },
  {
   "cell_type": "code",
   "execution_count": 8,
   "id": "29d0d1d3",
   "metadata": {},
   "outputs": [
    {
     "data": {
      "text/html": [
       "<div><style>\n",
       ".dataframe > thead > tr,\n",
       ".dataframe > tbody > tr {\n",
       "  text-align: right;\n",
       "  white-space: pre-wrap;\n",
       "}\n",
       "</style>\n",
       "<small>shape: (7, 2)</small><table border=\"1\" class=\"dataframe\"><thead><tr><th>action_type</th><th>count</th></tr><tr><td>str</td><td>u32</td></tr></thead><tbody><tr><td>&quot;unfavorite&quot;</td><td>1982175</td></tr><tr><td>&quot;remove&quot;</td><td>3712297</td></tr><tr><td>&quot;favorite&quot;</td><td>5199691</td></tr><tr><td>&quot;to_cart&quot;</td><td>6096416</td></tr><tr><td>&quot;view_description&quot;</td><td>22111951</td></tr><tr><td>&quot;review_view&quot;</td><td>7593543</td></tr><tr><td>&quot;page_view&quot;</td><td>117545260</td></tr></tbody></table></div>"
      ],
      "text/plain": [
       "shape: (7, 2)\n",
       "┌──────────────────┬───────────┐\n",
       "│ action_type      ┆ count     │\n",
       "│ ---              ┆ ---       │\n",
       "│ str              ┆ u32       │\n",
       "╞══════════════════╪═══════════╡\n",
       "│ unfavorite       ┆ 1982175   │\n",
       "│ remove           ┆ 3712297   │\n",
       "│ favorite         ┆ 5199691   │\n",
       "│ to_cart          ┆ 6096416   │\n",
       "│ view_description ┆ 22111951  │\n",
       "│ review_view      ┆ 7593543   │\n",
       "│ page_view        ┆ 117545260 │\n",
       "└──────────────────┴───────────┘"
      ]
     },
     "execution_count": 8,
     "metadata": {},
     "output_type": "execute_result"
    }
   ],
   "source": [
    "tracker_df['action_type'].value_counts()"
   ]
  },
  {
   "cell_type": "code",
   "execution_count": null,
   "id": "a05ae7ee",
   "metadata": {},
   "outputs": [],
   "source": []
  },
  {
   "cell_type": "code",
   "execution_count": null,
   "id": "fd9523c7",
   "metadata": {},
   "outputs": [],
   "source": []
  },
  {
   "cell_type": "code",
   "execution_count": 9,
   "id": "6de6638f",
   "metadata": {},
   "outputs": [
    {
     "data": {
      "text/html": [
       "<div><style>\n",
       ".dataframe > thead > tr,\n",
       ".dataframe > tbody > tr {\n",
       "  text-align: right;\n",
       "  white-space: pre-wrap;\n",
       "}\n",
       "</style>\n",
       "<small>shape: (164_241_333, 6)</small><table border=\"1\" class=\"dataframe\"><thead><tr><th>item_id</th><th>user_id</th><th>timestamp</th><th>action_type</th><th>action_widget</th><th>date</th></tr><tr><td>i32</td><td>i32</td><td>datetime[ns]</td><td>str</td><td>str</td><td>str</td></tr></thead><tbody><tr><td>30760</td><td>1889010</td><td>2025-01-10 20:47:00</td><td>&quot;page_view&quot;</td><td>&quot;catalog.searchResultsV2&quot;</td><td>&quot;2025-01-10&quot;</td></tr><tr><td>30760</td><td>3017520</td><td>2025-02-10 11:19:49</td><td>&quot;page_view&quot;</td><td>&quot;catalog.searchResultsV2&quot;</td><td>&quot;2025-02-10&quot;</td></tr><tr><td>30760</td><td>2476291</td><td>2025-05-02 13:48:47</td><td>&quot;page_view&quot;</td><td>&quot;catalog.searchResultsV2&quot;</td><td>&quot;2025-05-02&quot;</td></tr><tr><td>30760</td><td>89601</td><td>2025-06-30 16:18:47</td><td>&quot;page_view&quot;</td><td>&quot;shelf.analogLookSimilar&quot;</td><td>&quot;2025-06-30&quot;</td></tr><tr><td>30760</td><td>3358921</td><td>2025-02-08 11:46:43</td><td>&quot;page_view&quot;</td><td>&quot;catalog.searchResultsV2&quot;</td><td>&quot;2025-02-08&quot;</td></tr><tr><td>&hellip;</td><td>&hellip;</td><td>&hellip;</td><td>&hellip;</td><td>&hellip;</td><td>&hellip;</td></tr><tr><td>338891677</td><td>1351550</td><td>2025-05-16 17:07:38</td><td>&quot;view_description&quot;</td><td>&quot;pdp.textDescription&quot;</td><td>&quot;2025-05-16&quot;</td></tr><tr><td>338891677</td><td>1351550</td><td>2025-05-16 17:07:38</td><td>&quot;view_description&quot;</td><td>&quot;pdp.textDescription&quot;</td><td>&quot;2025-05-16&quot;</td></tr><tr><td>338891677</td><td>1351550</td><td>2025-05-16 17:07:27</td><td>&quot;page_view&quot;</td><td>&quot;shelf.analogShelfPersonal&quot;</td><td>&quot;2025-05-16&quot;</td></tr><tr><td>338891677</td><td>148110</td><td>2025-05-24 10:48:46</td><td>&quot;page_view&quot;</td><td>null</td><td>&quot;2025-05-24&quot;</td></tr><tr><td>338891677</td><td>1488621</td><td>2025-05-10 01:40:50</td><td>&quot;page_view&quot;</td><td>&quot;favorites.searchResultsV2&quot;</td><td>&quot;2025-05-10&quot;</td></tr></tbody></table></div>"
      ],
      "text/plain": [
       "shape: (164_241_333, 6)\n",
       "┌───────────┬─────────┬─────────────────────┬──────────────────┬──────────────────────┬────────────┐\n",
       "│ item_id   ┆ user_id ┆ timestamp           ┆ action_type      ┆ action_widget        ┆ date       │\n",
       "│ ---       ┆ ---     ┆ ---                 ┆ ---              ┆ ---                  ┆ ---        │\n",
       "│ i32       ┆ i32     ┆ datetime[ns]        ┆ str              ┆ str                  ┆ str        │\n",
       "╞═══════════╪═════════╪═════════════════════╪══════════════════╪══════════════════════╪════════════╡\n",
       "│ 30760     ┆ 1889010 ┆ 2025-01-10 20:47:00 ┆ page_view        ┆ catalog.searchResult ┆ 2025-01-10 │\n",
       "│           ┆         ┆                     ┆                  ┆ sV2                  ┆            │\n",
       "│ 30760     ┆ 3017520 ┆ 2025-02-10 11:19:49 ┆ page_view        ┆ catalog.searchResult ┆ 2025-02-10 │\n",
       "│           ┆         ┆                     ┆                  ┆ sV2                  ┆            │\n",
       "│ 30760     ┆ 2476291 ┆ 2025-05-02 13:48:47 ┆ page_view        ┆ catalog.searchResult ┆ 2025-05-02 │\n",
       "│           ┆         ┆                     ┆                  ┆ sV2                  ┆            │\n",
       "│ 30760     ┆ 89601   ┆ 2025-06-30 16:18:47 ┆ page_view        ┆ shelf.analogLookSimi ┆ 2025-06-30 │\n",
       "│           ┆         ┆                     ┆                  ┆ lar                  ┆            │\n",
       "│ 30760     ┆ 3358921 ┆ 2025-02-08 11:46:43 ┆ page_view        ┆ catalog.searchResult ┆ 2025-02-08 │\n",
       "│           ┆         ┆                     ┆                  ┆ sV2                  ┆            │\n",
       "│ …         ┆ …       ┆ …                   ┆ …                ┆ …                    ┆ …          │\n",
       "│ 338891677 ┆ 1351550 ┆ 2025-05-16 17:07:38 ┆ view_description ┆ pdp.textDescription  ┆ 2025-05-16 │\n",
       "│ 338891677 ┆ 1351550 ┆ 2025-05-16 17:07:38 ┆ view_description ┆ pdp.textDescription  ┆ 2025-05-16 │\n",
       "│ 338891677 ┆ 1351550 ┆ 2025-05-16 17:07:27 ┆ page_view        ┆ shelf.analogShelfPer ┆ 2025-05-16 │\n",
       "│           ┆         ┆                     ┆                  ┆ sonal                ┆            │\n",
       "│ 338891677 ┆ 148110  ┆ 2025-05-24 10:48:46 ┆ page_view        ┆ null                 ┆ 2025-05-24 │\n",
       "│ 338891677 ┆ 1488621 ┆ 2025-05-10 01:40:50 ┆ page_view        ┆ favorites.searchResu ┆ 2025-05-10 │\n",
       "│           ┆         ┆                     ┆                  ┆ ltsV2                ┆            │\n",
       "└───────────┴─────────┴─────────────────────┴──────────────────┴──────────────────────┴────────────┘"
      ]
     },
     "execution_count": 9,
     "metadata": {},
     "output_type": "execute_result"
    }
   ],
   "source": [
    "tracker_df"
   ]
  }
 ],
 "metadata": {
  "kernelspec": {
   "display_name": "base",
   "language": "python",
   "name": "python3"
  },
  "language_info": {
   "codemirror_mode": {
    "name": "ipython",
    "version": 3
   },
   "file_extension": ".py",
   "mimetype": "text/x-python",
   "name": "python",
   "nbconvert_exporter": "python",
   "pygments_lexer": "ipython3",
   "version": "3.12.7"
  }
 },
 "nbformat": 4,
 "nbformat_minor": 5
}
